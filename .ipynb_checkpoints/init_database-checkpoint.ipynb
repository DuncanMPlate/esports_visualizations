{
 "cells": [
  {
   "cell_type": "code",
   "execution_count": 1,
   "metadata": {},
   "outputs": [],
   "source": [
    "# Dependencies and Setup\n",
    "import pandas as pd\n",
    "import csv\n",
    "import os\n",
    "import numpy as np"
   ]
  },
  {
   "cell_type": "markdown",
   "metadata": {},
   "source": [
    "## Load and Clean Data"
   ]
  },
  {
   "cell_type": "code",
   "execution_count": 2,
   "metadata": {},
   "outputs": [],
   "source": [
    "# Files to Load\n",
    "cont_code_path = os.path.join(os.getcwd(), \"Resources\", \"country-and-continent-codes-list.csv\")\n",
    "teams_path = os.path.join(os.getcwd(), \"Resources\", \"highest_earning_teams.csv\")\n",
    "players_path = os.path.join(os.getcwd(), \"Resources\", \"highest_earning_players.csv\")\n",
    "time_trends_path = os.path.join(os.getcwd(), \"Resources\", \"time_trends.csv\")\n",
    "trends_path = os.path.join(os.getcwd(), \"Resources\", \"trend_map.csv\")"
   ]
  },
  {
   "cell_type": "code",
   "execution_count": 3,
   "metadata": {},
   "outputs": [],
   "source": [
    "# Read Files and Store Into Pandas Data Frame\n",
    "cont_code_df = pd.read_csv(cont_code_path)\n",
    "teams_df = pd.read_csv(teams_path)\n",
    "players_df = pd.read_csv(players_path)\n",
    "time_trends_df = pd.read_csv(time_trends_path)\n",
    "trends_geo_df = pd.read_csv(trends_path)"
   ]
  },
  {
   "cell_type": "code",
   "execution_count": 4,
   "metadata": {},
   "outputs": [
    {
     "data": {
      "text/html": [
       "<div>\n",
       "<style scoped>\n",
       "    .dataframe tbody tr th:only-of-type {\n",
       "        vertical-align: middle;\n",
       "    }\n",
       "\n",
       "    .dataframe tbody tr th {\n",
       "        vertical-align: top;\n",
       "    }\n",
       "\n",
       "    .dataframe thead th {\n",
       "        text-align: right;\n",
       "    }\n",
       "</style>\n",
       "<table border=\"1\" class=\"dataframe\">\n",
       "  <thead>\n",
       "    <tr style=\"text-align: right;\">\n",
       "      <th></th>\n",
       "      <th>Continent_Name</th>\n",
       "      <th>Continent_Code</th>\n",
       "      <th>Country_Name</th>\n",
       "      <th>Two_Letter_Country_Code</th>\n",
       "      <th>Three_Letter_Country_Code</th>\n",
       "      <th>Country_Number</th>\n",
       "    </tr>\n",
       "  </thead>\n",
       "  <tbody>\n",
       "    <tr>\n",
       "      <th>0</th>\n",
       "      <td>Asia</td>\n",
       "      <td>AS</td>\n",
       "      <td>Afghanistan, Islamic Republic of</td>\n",
       "      <td>AF</td>\n",
       "      <td>AFG</td>\n",
       "      <td>4.0</td>\n",
       "    </tr>\n",
       "    <tr>\n",
       "      <th>1</th>\n",
       "      <td>Europe</td>\n",
       "      <td>EU</td>\n",
       "      <td>Albania, Republic of</td>\n",
       "      <td>AL</td>\n",
       "      <td>ALB</td>\n",
       "      <td>8.0</td>\n",
       "    </tr>\n",
       "    <tr>\n",
       "      <th>2</th>\n",
       "      <td>Antarctica</td>\n",
       "      <td>AN</td>\n",
       "      <td>Antarctica (the territory South of 60 deg S)</td>\n",
       "      <td>AQ</td>\n",
       "      <td>ATA</td>\n",
       "      <td>10.0</td>\n",
       "    </tr>\n",
       "    <tr>\n",
       "      <th>3</th>\n",
       "      <td>Africa</td>\n",
       "      <td>AF</td>\n",
       "      <td>Algeria, People's Democratic Republic of</td>\n",
       "      <td>DZ</td>\n",
       "      <td>DZA</td>\n",
       "      <td>12.0</td>\n",
       "    </tr>\n",
       "    <tr>\n",
       "      <th>4</th>\n",
       "      <td>Oceania</td>\n",
       "      <td>OC</td>\n",
       "      <td>American Samoa</td>\n",
       "      <td>AS</td>\n",
       "      <td>ASM</td>\n",
       "      <td>16.0</td>\n",
       "    </tr>\n",
       "  </tbody>\n",
       "</table>\n",
       "</div>"
      ],
      "text/plain": [
       "  Continent_Name Continent_Code                                  Country_Name  \\\n",
       "0           Asia             AS              Afghanistan, Islamic Republic of   \n",
       "1         Europe             EU                          Albania, Republic of   \n",
       "2     Antarctica             AN  Antarctica (the territory South of 60 deg S)   \n",
       "3         Africa             AF      Algeria, People's Democratic Republic of   \n",
       "4        Oceania             OC                                American Samoa   \n",
       "\n",
       "  Two_Letter_Country_Code Three_Letter_Country_Code  Country_Number  \n",
       "0                      AF                       AFG             4.0  \n",
       "1                      AL                       ALB             8.0  \n",
       "2                      AQ                       ATA            10.0  \n",
       "3                      DZ                       DZA            12.0  \n",
       "4                      AS                       ASM            16.0  "
      ]
     },
     "execution_count": 4,
     "metadata": {},
     "output_type": "execute_result"
    }
   ],
   "source": [
    "## Look at our data\n",
    "cont_code_df.head()"
   ]
  },
  {
   "cell_type": "code",
   "execution_count": 5,
   "metadata": {},
   "outputs": [
    {
     "data": {
      "text/html": [
       "<div>\n",
       "<style scoped>\n",
       "    .dataframe tbody tr th:only-of-type {\n",
       "        vertical-align: middle;\n",
       "    }\n",
       "\n",
       "    .dataframe tbody tr th {\n",
       "        vertical-align: top;\n",
       "    }\n",
       "\n",
       "    .dataframe thead th {\n",
       "        text-align: right;\n",
       "    }\n",
       "</style>\n",
       "<table border=\"1\" class=\"dataframe\">\n",
       "  <thead>\n",
       "    <tr style=\"text-align: right;\">\n",
       "      <th></th>\n",
       "      <th>TeamId</th>\n",
       "      <th>TeamName</th>\n",
       "      <th>TotalUSDPrize</th>\n",
       "      <th>TotalTournaments</th>\n",
       "      <th>Game</th>\n",
       "      <th>Genre</th>\n",
       "    </tr>\n",
       "  </thead>\n",
       "  <tbody>\n",
       "    <tr>\n",
       "      <th>0</th>\n",
       "      <td>760</td>\n",
       "      <td>San Francisco Shock</td>\n",
       "      <td>3105000.0</td>\n",
       "      <td>7</td>\n",
       "      <td>Overwatch</td>\n",
       "      <td>First-Person Shooter</td>\n",
       "    </tr>\n",
       "    <tr>\n",
       "      <th>1</th>\n",
       "      <td>776</td>\n",
       "      <td>London Spitfire</td>\n",
       "      <td>1591136.5</td>\n",
       "      <td>13</td>\n",
       "      <td>Overwatch</td>\n",
       "      <td>First-Person Shooter</td>\n",
       "    </tr>\n",
       "    <tr>\n",
       "      <th>2</th>\n",
       "      <td>768</td>\n",
       "      <td>New York Excelsior</td>\n",
       "      <td>1572618.5</td>\n",
       "      <td>18</td>\n",
       "      <td>Overwatch</td>\n",
       "      <td>First-Person Shooter</td>\n",
       "    </tr>\n",
       "    <tr>\n",
       "      <th>3</th>\n",
       "      <td>773</td>\n",
       "      <td>Philadelphia Fusion</td>\n",
       "      <td>1186278.5</td>\n",
       "      <td>15</td>\n",
       "      <td>Overwatch</td>\n",
       "      <td>First-Person Shooter</td>\n",
       "    </tr>\n",
       "    <tr>\n",
       "      <th>4</th>\n",
       "      <td>766</td>\n",
       "      <td>Seoul Dynasty</td>\n",
       "      <td>1130000.0</td>\n",
       "      <td>6</td>\n",
       "      <td>Overwatch</td>\n",
       "      <td>First-Person Shooter</td>\n",
       "    </tr>\n",
       "  </tbody>\n",
       "</table>\n",
       "</div>"
      ],
      "text/plain": [
       "   TeamId             TeamName  TotalUSDPrize  TotalTournaments       Game  \\\n",
       "0     760  San Francisco Shock      3105000.0                 7  Overwatch   \n",
       "1     776      London Spitfire      1591136.5                13  Overwatch   \n",
       "2     768   New York Excelsior      1572618.5                18  Overwatch   \n",
       "3     773  Philadelphia Fusion      1186278.5                15  Overwatch   \n",
       "4     766        Seoul Dynasty      1130000.0                 6  Overwatch   \n",
       "\n",
       "                  Genre  \n",
       "0  First-Person Shooter  \n",
       "1  First-Person Shooter  \n",
       "2  First-Person Shooter  \n",
       "3  First-Person Shooter  \n",
       "4  First-Person Shooter  "
      ]
     },
     "execution_count": 5,
     "metadata": {},
     "output_type": "execute_result"
    }
   ],
   "source": [
    "teams_df.head()"
   ]
  },
  {
   "cell_type": "code",
   "execution_count": 6,
   "metadata": {},
   "outputs": [
    {
     "data": {
      "text/html": [
       "<div>\n",
       "<style scoped>\n",
       "    .dataframe tbody tr th:only-of-type {\n",
       "        vertical-align: middle;\n",
       "    }\n",
       "\n",
       "    .dataframe tbody tr th {\n",
       "        vertical-align: top;\n",
       "    }\n",
       "\n",
       "    .dataframe thead th {\n",
       "        text-align: right;\n",
       "    }\n",
       "</style>\n",
       "<table border=\"1\" class=\"dataframe\">\n",
       "  <thead>\n",
       "    <tr style=\"text-align: right;\">\n",
       "      <th></th>\n",
       "      <th>PlayerId</th>\n",
       "      <th>NameFirst</th>\n",
       "      <th>NameLast</th>\n",
       "      <th>CurrentHandle</th>\n",
       "      <th>CountryCode</th>\n",
       "      <th>TotalUSDPrize</th>\n",
       "      <th>Game</th>\n",
       "      <th>Genre</th>\n",
       "    </tr>\n",
       "  </thead>\n",
       "  <tbody>\n",
       "    <tr>\n",
       "      <th>0</th>\n",
       "      <td>3883</td>\n",
       "      <td>Peter</td>\n",
       "      <td>Rasmussen</td>\n",
       "      <td>dupreeh</td>\n",
       "      <td>dk</td>\n",
       "      <td>1822989.41</td>\n",
       "      <td>Counter-Strike: Global Offensive</td>\n",
       "      <td>First-Person Shooter</td>\n",
       "    </tr>\n",
       "    <tr>\n",
       "      <th>1</th>\n",
       "      <td>3679</td>\n",
       "      <td>Andreas</td>\n",
       "      <td>Højsleth</td>\n",
       "      <td>Xyp9x</td>\n",
       "      <td>dk</td>\n",
       "      <td>1799288.57</td>\n",
       "      <td>Counter-Strike: Global Offensive</td>\n",
       "      <td>First-Person Shooter</td>\n",
       "    </tr>\n",
       "    <tr>\n",
       "      <th>2</th>\n",
       "      <td>3885</td>\n",
       "      <td>Nicolai</td>\n",
       "      <td>Reedtz</td>\n",
       "      <td>dev1ce</td>\n",
       "      <td>dk</td>\n",
       "      <td>1787489.88</td>\n",
       "      <td>Counter-Strike: Global Offensive</td>\n",
       "      <td>First-Person Shooter</td>\n",
       "    </tr>\n",
       "    <tr>\n",
       "      <th>3</th>\n",
       "      <td>3672</td>\n",
       "      <td>Lukas</td>\n",
       "      <td>Rossander</td>\n",
       "      <td>gla1ve</td>\n",
       "      <td>dk</td>\n",
       "      <td>1652350.75</td>\n",
       "      <td>Counter-Strike: Global Offensive</td>\n",
       "      <td>First-Person Shooter</td>\n",
       "    </tr>\n",
       "    <tr>\n",
       "      <th>4</th>\n",
       "      <td>17800</td>\n",
       "      <td>Emil</td>\n",
       "      <td>Reif</td>\n",
       "      <td>Magisk</td>\n",
       "      <td>dk</td>\n",
       "      <td>1416448.64</td>\n",
       "      <td>Counter-Strike: Global Offensive</td>\n",
       "      <td>First-Person Shooter</td>\n",
       "    </tr>\n",
       "  </tbody>\n",
       "</table>\n",
       "</div>"
      ],
      "text/plain": [
       "   PlayerId NameFirst   NameLast CurrentHandle CountryCode  TotalUSDPrize  \\\n",
       "0      3883     Peter  Rasmussen       dupreeh          dk     1822989.41   \n",
       "1      3679   Andreas   Højsleth         Xyp9x          dk     1799288.57   \n",
       "2      3885   Nicolai     Reedtz        dev1ce          dk     1787489.88   \n",
       "3      3672     Lukas  Rossander        gla1ve          dk     1652350.75   \n",
       "4     17800      Emil       Reif        Magisk          dk     1416448.64   \n",
       "\n",
       "                               Game                 Genre  \n",
       "0  Counter-Strike: Global Offensive  First-Person Shooter  \n",
       "1  Counter-Strike: Global Offensive  First-Person Shooter  \n",
       "2  Counter-Strike: Global Offensive  First-Person Shooter  \n",
       "3  Counter-Strike: Global Offensive  First-Person Shooter  \n",
       "4  Counter-Strike: Global Offensive  First-Person Shooter  "
      ]
     },
     "execution_count": 6,
     "metadata": {},
     "output_type": "execute_result"
    }
   ],
   "source": [
    "players_df.head()"
   ]
  },
  {
   "cell_type": "code",
   "execution_count": 7,
   "metadata": {},
   "outputs": [
    {
     "data": {
      "text/html": [
       "<div>\n",
       "<style scoped>\n",
       "    .dataframe tbody tr th:only-of-type {\n",
       "        vertical-align: middle;\n",
       "    }\n",
       "\n",
       "    .dataframe tbody tr th {\n",
       "        vertical-align: top;\n",
       "    }\n",
       "\n",
       "    .dataframe thead th {\n",
       "        text-align: right;\n",
       "    }\n",
       "</style>\n",
       "<table border=\"1\" class=\"dataframe\">\n",
       "  <thead>\n",
       "    <tr style=\"text-align: right;\">\n",
       "      <th>1</th>\n",
       "      <th>Week</th>\n",
       "      <th>League_of_Legends</th>\n",
       "      <th>Dota_2</th>\n",
       "      <th>Fortnite</th>\n",
       "      <th>PUBG</th>\n",
       "      <th>CSGO</th>\n",
       "    </tr>\n",
       "  </thead>\n",
       "  <tbody>\n",
       "    <tr>\n",
       "      <th>2</th>\n",
       "      <td>9/6/2020</td>\n",
       "      <td>26</td>\n",
       "      <td>5</td>\n",
       "      <td>74</td>\n",
       "      <td>76</td>\n",
       "      <td>11</td>\n",
       "    </tr>\n",
       "    <tr>\n",
       "      <th>3</th>\n",
       "      <td>9/13/2020</td>\n",
       "      <td>26</td>\n",
       "      <td>5</td>\n",
       "      <td>72</td>\n",
       "      <td>53</td>\n",
       "      <td>11</td>\n",
       "    </tr>\n",
       "    <tr>\n",
       "      <th>4</th>\n",
       "      <td>9/20/2020</td>\n",
       "      <td>27</td>\n",
       "      <td>5</td>\n",
       "      <td>72</td>\n",
       "      <td>45</td>\n",
       "      <td>11</td>\n",
       "    </tr>\n",
       "    <tr>\n",
       "      <th>5</th>\n",
       "      <td>9/27/2020</td>\n",
       "      <td>31</td>\n",
       "      <td>4</td>\n",
       "      <td>65</td>\n",
       "      <td>41</td>\n",
       "      <td>11</td>\n",
       "    </tr>\n",
       "    <tr>\n",
       "      <th>6</th>\n",
       "      <td>10/4/2020</td>\n",
       "      <td>30</td>\n",
       "      <td>4</td>\n",
       "      <td>57</td>\n",
       "      <td>39</td>\n",
       "      <td>10</td>\n",
       "    </tr>\n",
       "  </tbody>\n",
       "</table>\n",
       "</div>"
      ],
      "text/plain": [
       "1       Week League_of_Legends Dota_2 Fortnite PUBG CSGO\n",
       "2   9/6/2020                26      5       74   76   11\n",
       "3  9/13/2020                26      5       72   53   11\n",
       "4  9/20/2020                27      5       72   45   11\n",
       "5  9/27/2020                31      4       65   41   11\n",
       "6  10/4/2020                30      4       57   39   10"
      ]
     },
     "execution_count": 7,
     "metadata": {},
     "output_type": "execute_result"
    }
   ],
   "source": [
    "time_trends_df = time_trends_df.drop([0])\n",
    "## Need to fix headers\n",
    "new_header = time_trends_df.iloc[0]\n",
    "time_trends_df = time_trends_df[1:]\n",
    "time_trends_df.columns = new_header\n",
    "time_trends_df = time_trends_df.rename(columns={\"League of Legends: (Worldwide)\" : \"League_of_Legends\", \n",
    "                                              \"Dota 2: (Worldwide)\" : \"Dota_2\",\n",
    "                                              \"Fortnite: (Worldwide)\" : \"Fortnite\",\n",
    "                                              \"PlayerUnknown's Battlegrounds: (Worldwide)\" : \"PUBG\",\n",
    "                                              \"Counter-Strike: Global Offensive: (Worldwide)\" : \"CSGO\"\n",
    "                                             })\n",
    "time_trends_df.head()"
   ]
  },
  {
   "cell_type": "code",
   "execution_count": 8,
   "metadata": {},
   "outputs": [
    {
     "data": {
      "text/html": [
       "<div>\n",
       "<style scoped>\n",
       "    .dataframe tbody tr th:only-of-type {\n",
       "        vertical-align: middle;\n",
       "    }\n",
       "\n",
       "    .dataframe tbody tr th {\n",
       "        vertical-align: top;\n",
       "    }\n",
       "\n",
       "    .dataframe thead th {\n",
       "        text-align: right;\n",
       "    }\n",
       "</style>\n",
       "<table border=\"1\" class=\"dataframe\">\n",
       "  <thead>\n",
       "    <tr style=\"text-align: right;\">\n",
       "      <th>1</th>\n",
       "      <th>Country</th>\n",
       "      <th>League_of_Legends</th>\n",
       "      <th>Dota_2</th>\n",
       "      <th>Fortnite</th>\n",
       "      <th>PUBG</th>\n",
       "      <th>CSGO</th>\n",
       "    </tr>\n",
       "  </thead>\n",
       "  <tbody>\n",
       "    <tr>\n",
       "      <th>2</th>\n",
       "      <td>Iraq</td>\n",
       "      <td>&lt;1%</td>\n",
       "      <td>&lt;1%</td>\n",
       "      <td>9%</td>\n",
       "      <td>91%</td>\n",
       "      <td>&lt;1%</td>\n",
       "    </tr>\n",
       "    <tr>\n",
       "      <th>3</th>\n",
       "      <td>Bhutan</td>\n",
       "      <td>2%</td>\n",
       "      <td>1%</td>\n",
       "      <td>3%</td>\n",
       "      <td>94%</td>\n",
       "      <td>&lt;1%</td>\n",
       "    </tr>\n",
       "    <tr>\n",
       "      <th>4</th>\n",
       "      <td>Myanmar (Burma)</td>\n",
       "      <td>8%</td>\n",
       "      <td>11%</td>\n",
       "      <td>3%</td>\n",
       "      <td>75%</td>\n",
       "      <td>3%</td>\n",
       "    </tr>\n",
       "    <tr>\n",
       "      <th>5</th>\n",
       "      <td>Kiribati</td>\n",
       "      <td>NaN</td>\n",
       "      <td>NaN</td>\n",
       "      <td>NaN</td>\n",
       "      <td>100%</td>\n",
       "      <td>NaN</td>\n",
       "    </tr>\n",
       "    <tr>\n",
       "      <th>6</th>\n",
       "      <td>Libya</td>\n",
       "      <td>1%</td>\n",
       "      <td>&lt;1%</td>\n",
       "      <td>7%</td>\n",
       "      <td>92%</td>\n",
       "      <td>&lt;1%</td>\n",
       "    </tr>\n",
       "  </tbody>\n",
       "</table>\n",
       "</div>"
      ],
      "text/plain": [
       "1          Country League_of_Legends Dota_2 Fortnite  PUBG CSGO\n",
       "2             Iraq               <1%    <1%       9%   91%  <1%\n",
       "3           Bhutan                2%     1%       3%   94%  <1%\n",
       "4  Myanmar (Burma)                8%    11%       3%   75%   3%\n",
       "5         Kiribati               NaN    NaN      NaN  100%  NaN\n",
       "6            Libya                1%    <1%       7%   92%  <1%"
      ]
     },
     "execution_count": 8,
     "metadata": {},
     "output_type": "execute_result"
    }
   ],
   "source": [
    "trends_geo_df = trends_geo_df.drop([0])\n",
    "## Need to fix headers\n",
    "new_header = trends_geo_df.iloc[0]\n",
    "trends_geo_df = trends_geo_df[1:]\n",
    "trends_geo_df.columns = new_header\n",
    "trends_geo_df = trends_geo_df.rename(columns={\"League of Legends: (9/1/20 - 9/1/21)\" : \"League_of_Legends\", \n",
    "                                              \"Dota 2: (9/1/20 - 9/1/21)\" : \"Dota_2\",\n",
    "                                              \"Fortnite: (9/1/20 - 9/1/21)\" : \"Fortnite\",\n",
    "                                              \"PlayerUnknown's Battlegrounds: (9/1/20 - 9/1/21)\" : \"PUBG\",\n",
    "                                              \"Counter-Strike: Global Offensive: (9/1/20 - 9/1/21)\" : \"CSGO\"\n",
    "                                             })\n",
    "trends_geo_df.head()"
   ]
  },
  {
   "cell_type": "markdown",
   "metadata": {},
   "source": [
    "## Create Database"
   ]
  },
  {
   "cell_type": "code",
   "execution_count": 9,
   "metadata": {},
   "outputs": [],
   "source": [
    "## Dependencies\n",
    "from sqlalchemy import create_engine\n",
    "from hiddenConfig import password\n",
    "import psycopg2"
   ]
  },
  {
   "cell_type": "code",
   "execution_count": 10,
   "metadata": {},
   "outputs": [
    {
     "name": "stdout",
     "output_type": "stream",
     "text": [
      "'esports_db' Database already exists\n"
     ]
    }
   ],
   "source": [
    "## establishing the connection with database. This checks whether or not the database exists before creation. If it is,\n",
    "## it will tell you. Then move onto the next cell\n",
    "conn = None\n",
    "try:\n",
    "    conn = psycopg2.connect(\n",
    "       database=\"postgres\", user='postgres', password=password, host='127.0.0.1', port= '5432'\n",
    "    )\n",
    "\n",
    "except:\n",
    "    print('Database not connected.')\n",
    "    \n",
    "if conn is not None:\n",
    "    conn.autocommit = True\n",
    "\n",
    "    #Creating a cursor object\n",
    "    cursor = conn.cursor()\n",
    "\n",
    "    cursor.execute(\"SELECT datname FROM pg_database;\")\n",
    "    \n",
    "    list_database = cursor.fetchall()\n",
    "    database_name = 'esports_db'\n",
    "    \n",
    "    if (database_name,) in list_database:\n",
    "        print(f\"'{database_name}' Database already exists\")\n",
    "    else:\n",
    "        #Preparing query to create a database\n",
    "        sql = '''CREATE database esports_db''';\n",
    "\n",
    "        #Creating a database\n",
    "        cursor.execute(sql)\n",
    "        print(\"Database created successfully!\")\n",
    "\n",
    "#Closing the connection\n",
    "conn.close()"
   ]
  },
  {
   "cell_type": "code",
   "execution_count": 11,
   "metadata": {},
   "outputs": [],
   "source": [
    "## Connect to local database\n",
    "rds_connection_string = f\"postgres:{password}@localhost:5432/esports_db\"\n",
    "engine = create_engine(f'postgresql://{rds_connection_string}')"
   ]
  },
  {
   "cell_type": "code",
   "execution_count": 12,
   "metadata": {},
   "outputs": [
    {
     "data": {
      "text/plain": [
       "['cont_code_data',\n",
       " 'team_data',\n",
       " 'trends_geo_data',\n",
       " 'player_data',\n",
       " 'time_trends_data']"
      ]
     },
     "execution_count": 12,
     "metadata": {},
     "output_type": "execute_result"
    }
   ],
   "source": [
    "## Check to see if there are any tables already in the database\n",
    "engine.table_names()"
   ]
  },
  {
   "cell_type": "markdown",
   "metadata": {},
   "source": [
    "#### Load the dataframes into our database"
   ]
  },
  {
   "cell_type": "code",
   "execution_count": 14,
   "metadata": {},
   "outputs": [],
   "source": [
    "cont_code_df.to_sql(name='cont_code_data', con=engine, if_exists='replace', index=False)\n",
    "teams_df.to_sql(name='team_data', con=engine, if_exists='replace', index=False)\n",
    "trends_geo_df.to_sql(name='trends_geo_data', con=engine, if_exists='replace', index=False)\n",
    "players_df.to_sql(name='player_data', con=engine, if_exists='replace', index=False)\n",
    "time_trends_df.to_sql(name='time_trends_data', con=engine, if_exists='replace', index=False)"
   ]
  },
  {
   "cell_type": "markdown",
   "metadata": {},
   "source": [
    "#### Check to make sure it worked OK"
   ]
  },
  {
   "cell_type": "code",
   "execution_count": 15,
   "metadata": {},
   "outputs": [
    {
     "data": {
      "text/plain": [
       "('Asia', 'AS', 'Afghanistan, Islamic Republic of', 'AF', 'AFG', 4.0)"
      ]
     },
     "execution_count": 15,
     "metadata": {},
     "output_type": "execute_result"
    }
   ],
   "source": [
    "engine.execute('select * from cont_code_data').first()"
   ]
  },
  {
   "cell_type": "code",
   "execution_count": 16,
   "metadata": {},
   "outputs": [
    {
     "data": {
      "text/plain": [
       "(760, 'San Francisco Shock', 3105000.0, 7, 'Overwatch', 'First-Person Shooter')"
      ]
     },
     "execution_count": 16,
     "metadata": {},
     "output_type": "execute_result"
    }
   ],
   "source": [
    "engine.execute('select * from team_data').first()"
   ]
  },
  {
   "cell_type": "code",
   "execution_count": 17,
   "metadata": {},
   "outputs": [
    {
     "data": {
      "text/plain": [
       "('Iraq', '<1%', '<1%', '9%', '91%', '<1%')"
      ]
     },
     "execution_count": 17,
     "metadata": {},
     "output_type": "execute_result"
    }
   ],
   "source": [
    "engine.execute('select * from trends_geo_data').first()"
   ]
  },
  {
   "cell_type": "code",
   "execution_count": 18,
   "metadata": {},
   "outputs": [
    {
     "data": {
      "text/plain": [
       "(3883, 'Peter', 'Rasmussen', 'dupreeh', 'dk', 1822989.41, 'Counter-Strike: Global Offensive', 'First-Person Shooter')"
      ]
     },
     "execution_count": 18,
     "metadata": {},
     "output_type": "execute_result"
    }
   ],
   "source": [
    "engine.execute('select * from player_data').first()"
   ]
  },
  {
   "cell_type": "code",
   "execution_count": 19,
   "metadata": {},
   "outputs": [
    {
     "data": {
      "text/plain": [
       "('9/6/2020', '26', '5', '74', '76', '11')"
      ]
     },
     "execution_count": 19,
     "metadata": {},
     "output_type": "execute_result"
    }
   ],
   "source": [
    "engine.execute('select * from time_trends_data').first()"
   ]
  }
 ],
 "metadata": {
  "kernelspec": {
   "display_name": "Python 3",
   "language": "python",
   "name": "python3"
  },
  "language_info": {
   "codemirror_mode": {
    "name": "ipython",
    "version": 3
   },
   "file_extension": ".py",
   "mimetype": "text/x-python",
   "name": "python",
   "nbconvert_exporter": "python",
   "pygments_lexer": "ipython3",
   "version": "3.8.5"
  }
 },
 "nbformat": 4,
 "nbformat_minor": 4
}
