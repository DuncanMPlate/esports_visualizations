{
 "cells": [
  {
   "cell_type": "code",
   "execution_count": 1,
   "metadata": {},
   "outputs": [],
   "source": [
    "# Dependencies and Setup\n",
    "import pandas as pd\n",
    "import csv\n",
    "import os\n",
    "import numpy as np"
   ]
  },
  {
   "cell_type": "markdown",
   "metadata": {},
   "source": [
    "## Load and Clean Data"
   ]
  },
  {
   "cell_type": "code",
   "execution_count": 2,
   "metadata": {},
   "outputs": [],
   "source": [
    "# Files to Load\n",
    "cont_code_path = os.path.join(os.getcwd(), \"Resources\", \"country-and-continent-codes-list-cleaned.csv\")\n",
    "teams_path = os.path.join(os.getcwd(), \"Resources\", \"highest_earning_teams.csv\")\n",
    "players_path = os.path.join(os.getcwd(), \"Resources\", \"highest_earning_players.csv\")\n",
    "time_trends_path = os.path.join(os.getcwd(), \"Resources\", \"time_trends.csv\")\n",
    "trends_path = os.path.join(os.getcwd(), \"Resources\", \"trend_map.csv\")\n",
    "general_data_path = os.path.join(os.getcwd(), \"Resources\", \"GeneralEsportData.csv\")\n",
    "historical_data_path = os.path.join(os.getcwd(), \"Resources\", \"HistoricalEsportData.csv\")"
   ]
  },
  {
   "cell_type": "code",
   "execution_count": 3,
   "metadata": {},
   "outputs": [],
   "source": [
    "# Read Files and Store Into Pandas Data Frame\n",
    "cont_code_df = pd.read_csv(cont_code_path)\n",
    "teams_df = pd.read_csv(teams_path)\n",
    "players_df = pd.read_csv(players_path)\n",
    "time_trends_df = pd.read_csv(time_trends_path)\n",
    "trends_geo_df = pd.read_csv(trends_path)\n",
    "general_data_df = pd.read_csv(general_data_path, encoding='cp1252')\n",
    "historical_data_df = pd.read_csv(historical_data_path, encoding='cp1252')"
   ]
  },
  {
   "cell_type": "code",
   "execution_count": 4,
   "metadata": {},
   "outputs": [
    {
     "data": {
      "text/html": [
       "<div>\n",
       "<style scoped>\n",
       "    .dataframe tbody tr th:only-of-type {\n",
       "        vertical-align: middle;\n",
       "    }\n",
       "\n",
       "    .dataframe tbody tr th {\n",
       "        vertical-align: top;\n",
       "    }\n",
       "\n",
       "    .dataframe thead th {\n",
       "        text-align: right;\n",
       "    }\n",
       "</style>\n",
       "<table border=\"1\" class=\"dataframe\">\n",
       "  <thead>\n",
       "    <tr style=\"text-align: right;\">\n",
       "      <th></th>\n",
       "      <th>Continent_Name</th>\n",
       "      <th>Continent_Code</th>\n",
       "      <th>Country_Name</th>\n",
       "      <th>Two_Letter_Country_Code</th>\n",
       "      <th>Three_Letter_Country_Code</th>\n",
       "      <th>Country_Number</th>\n",
       "    </tr>\n",
       "  </thead>\n",
       "  <tbody>\n",
       "    <tr>\n",
       "      <th>0</th>\n",
       "      <td>Asia</td>\n",
       "      <td>AS</td>\n",
       "      <td>Afghanistan</td>\n",
       "      <td>AF</td>\n",
       "      <td>AFG</td>\n",
       "      <td>4.0</td>\n",
       "    </tr>\n",
       "    <tr>\n",
       "      <th>1</th>\n",
       "      <td>Europe</td>\n",
       "      <td>EU</td>\n",
       "      <td>Albania</td>\n",
       "      <td>AL</td>\n",
       "      <td>ALB</td>\n",
       "      <td>8.0</td>\n",
       "    </tr>\n",
       "    <tr>\n",
       "      <th>2</th>\n",
       "      <td>Antarctica</td>\n",
       "      <td>AN</td>\n",
       "      <td>Antarctica</td>\n",
       "      <td>AQ</td>\n",
       "      <td>ATA</td>\n",
       "      <td>10.0</td>\n",
       "    </tr>\n",
       "    <tr>\n",
       "      <th>3</th>\n",
       "      <td>Africa</td>\n",
       "      <td>AF</td>\n",
       "      <td>Algeria</td>\n",
       "      <td>DZ</td>\n",
       "      <td>DZA</td>\n",
       "      <td>12.0</td>\n",
       "    </tr>\n",
       "    <tr>\n",
       "      <th>4</th>\n",
       "      <td>Oceania</td>\n",
       "      <td>OC</td>\n",
       "      <td>American Samoa</td>\n",
       "      <td>AS</td>\n",
       "      <td>ASM</td>\n",
       "      <td>16.0</td>\n",
       "    </tr>\n",
       "  </tbody>\n",
       "</table>\n",
       "</div>"
      ],
      "text/plain": [
       "  Continent_Name Continent_Code    Country_Name Two_Letter_Country_Code  \\\n",
       "0           Asia             AS     Afghanistan                      AF   \n",
       "1         Europe             EU         Albania                      AL   \n",
       "2     Antarctica             AN      Antarctica                      AQ   \n",
       "3         Africa             AF         Algeria                      DZ   \n",
       "4        Oceania             OC  American Samoa                      AS   \n",
       "\n",
       "  Three_Letter_Country_Code  Country_Number  \n",
       "0                       AFG             4.0  \n",
       "1                       ALB             8.0  \n",
       "2                       ATA            10.0  \n",
       "3                       DZA            12.0  \n",
       "4                       ASM            16.0  "
      ]
     },
     "execution_count": 4,
     "metadata": {},
     "output_type": "execute_result"
    }
   ],
   "source": [
    "## Look at our data\n",
    "cont_code_df.head()"
   ]
  },
  {
   "cell_type": "code",
   "execution_count": 5,
   "metadata": {},
   "outputs": [
    {
     "data": {
      "text/html": [
       "<div>\n",
       "<style scoped>\n",
       "    .dataframe tbody tr th:only-of-type {\n",
       "        vertical-align: middle;\n",
       "    }\n",
       "\n",
       "    .dataframe tbody tr th {\n",
       "        vertical-align: top;\n",
       "    }\n",
       "\n",
       "    .dataframe thead th {\n",
       "        text-align: right;\n",
       "    }\n",
       "</style>\n",
       "<table border=\"1\" class=\"dataframe\">\n",
       "  <thead>\n",
       "    <tr style=\"text-align: right;\">\n",
       "      <th></th>\n",
       "      <th>TeamId</th>\n",
       "      <th>TeamName</th>\n",
       "      <th>TotalUSDPrize</th>\n",
       "      <th>TotalTournaments</th>\n",
       "      <th>Game</th>\n",
       "      <th>Genre</th>\n",
       "    </tr>\n",
       "  </thead>\n",
       "  <tbody>\n",
       "    <tr>\n",
       "      <th>0</th>\n",
       "      <td>760</td>\n",
       "      <td>San Francisco Shock</td>\n",
       "      <td>3105000.0</td>\n",
       "      <td>7</td>\n",
       "      <td>Overwatch</td>\n",
       "      <td>First-Person Shooter</td>\n",
       "    </tr>\n",
       "    <tr>\n",
       "      <th>1</th>\n",
       "      <td>776</td>\n",
       "      <td>London Spitfire</td>\n",
       "      <td>1591136.5</td>\n",
       "      <td>13</td>\n",
       "      <td>Overwatch</td>\n",
       "      <td>First-Person Shooter</td>\n",
       "    </tr>\n",
       "    <tr>\n",
       "      <th>2</th>\n",
       "      <td>768</td>\n",
       "      <td>New York Excelsior</td>\n",
       "      <td>1572618.5</td>\n",
       "      <td>18</td>\n",
       "      <td>Overwatch</td>\n",
       "      <td>First-Person Shooter</td>\n",
       "    </tr>\n",
       "    <tr>\n",
       "      <th>3</th>\n",
       "      <td>773</td>\n",
       "      <td>Philadelphia Fusion</td>\n",
       "      <td>1186278.5</td>\n",
       "      <td>15</td>\n",
       "      <td>Overwatch</td>\n",
       "      <td>First-Person Shooter</td>\n",
       "    </tr>\n",
       "    <tr>\n",
       "      <th>4</th>\n",
       "      <td>766</td>\n",
       "      <td>Seoul Dynasty</td>\n",
       "      <td>1130000.0</td>\n",
       "      <td>6</td>\n",
       "      <td>Overwatch</td>\n",
       "      <td>First-Person Shooter</td>\n",
       "    </tr>\n",
       "  </tbody>\n",
       "</table>\n",
       "</div>"
      ],
      "text/plain": [
       "   TeamId             TeamName  TotalUSDPrize  TotalTournaments       Game  \\\n",
       "0     760  San Francisco Shock      3105000.0                 7  Overwatch   \n",
       "1     776      London Spitfire      1591136.5                13  Overwatch   \n",
       "2     768   New York Excelsior      1572618.5                18  Overwatch   \n",
       "3     773  Philadelphia Fusion      1186278.5                15  Overwatch   \n",
       "4     766        Seoul Dynasty      1130000.0                 6  Overwatch   \n",
       "\n",
       "                  Genre  \n",
       "0  First-Person Shooter  \n",
       "1  First-Person Shooter  \n",
       "2  First-Person Shooter  \n",
       "3  First-Person Shooter  \n",
       "4  First-Person Shooter  "
      ]
     },
     "execution_count": 5,
     "metadata": {},
     "output_type": "execute_result"
    }
   ],
   "source": [
    "teams_df.head()"
   ]
  },
  {
   "cell_type": "code",
   "execution_count": 6,
   "metadata": {},
   "outputs": [
    {
     "data": {
      "text/html": [
       "<div>\n",
       "<style scoped>\n",
       "    .dataframe tbody tr th:only-of-type {\n",
       "        vertical-align: middle;\n",
       "    }\n",
       "\n",
       "    .dataframe tbody tr th {\n",
       "        vertical-align: top;\n",
       "    }\n",
       "\n",
       "    .dataframe thead th {\n",
       "        text-align: right;\n",
       "    }\n",
       "</style>\n",
       "<table border=\"1\" class=\"dataframe\">\n",
       "  <thead>\n",
       "    <tr style=\"text-align: right;\">\n",
       "      <th></th>\n",
       "      <th>PlayerId</th>\n",
       "      <th>NameFirst</th>\n",
       "      <th>NameLast</th>\n",
       "      <th>CurrentHandle</th>\n",
       "      <th>CountryCode</th>\n",
       "      <th>TotalUSDPrize</th>\n",
       "      <th>Game</th>\n",
       "      <th>Genre</th>\n",
       "    </tr>\n",
       "  </thead>\n",
       "  <tbody>\n",
       "    <tr>\n",
       "      <th>0</th>\n",
       "      <td>3883</td>\n",
       "      <td>Peter</td>\n",
       "      <td>Rasmussen</td>\n",
       "      <td>dupreeh</td>\n",
       "      <td>dk</td>\n",
       "      <td>1822989.41</td>\n",
       "      <td>Counter-Strike: Global Offensive</td>\n",
       "      <td>First-Person Shooter</td>\n",
       "    </tr>\n",
       "    <tr>\n",
       "      <th>1</th>\n",
       "      <td>3679</td>\n",
       "      <td>Andreas</td>\n",
       "      <td>Højsleth</td>\n",
       "      <td>Xyp9x</td>\n",
       "      <td>dk</td>\n",
       "      <td>1799288.57</td>\n",
       "      <td>Counter-Strike: Global Offensive</td>\n",
       "      <td>First-Person Shooter</td>\n",
       "    </tr>\n",
       "    <tr>\n",
       "      <th>2</th>\n",
       "      <td>3885</td>\n",
       "      <td>Nicolai</td>\n",
       "      <td>Reedtz</td>\n",
       "      <td>dev1ce</td>\n",
       "      <td>dk</td>\n",
       "      <td>1787489.88</td>\n",
       "      <td>Counter-Strike: Global Offensive</td>\n",
       "      <td>First-Person Shooter</td>\n",
       "    </tr>\n",
       "    <tr>\n",
       "      <th>3</th>\n",
       "      <td>3672</td>\n",
       "      <td>Lukas</td>\n",
       "      <td>Rossander</td>\n",
       "      <td>gla1ve</td>\n",
       "      <td>dk</td>\n",
       "      <td>1652350.75</td>\n",
       "      <td>Counter-Strike: Global Offensive</td>\n",
       "      <td>First-Person Shooter</td>\n",
       "    </tr>\n",
       "    <tr>\n",
       "      <th>4</th>\n",
       "      <td>17800</td>\n",
       "      <td>Emil</td>\n",
       "      <td>Reif</td>\n",
       "      <td>Magisk</td>\n",
       "      <td>dk</td>\n",
       "      <td>1416448.64</td>\n",
       "      <td>Counter-Strike: Global Offensive</td>\n",
       "      <td>First-Person Shooter</td>\n",
       "    </tr>\n",
       "  </tbody>\n",
       "</table>\n",
       "</div>"
      ],
      "text/plain": [
       "   PlayerId NameFirst   NameLast CurrentHandle CountryCode  TotalUSDPrize  \\\n",
       "0      3883     Peter  Rasmussen       dupreeh          dk     1822989.41   \n",
       "1      3679   Andreas   Højsleth         Xyp9x          dk     1799288.57   \n",
       "2      3885   Nicolai     Reedtz        dev1ce          dk     1787489.88   \n",
       "3      3672     Lukas  Rossander        gla1ve          dk     1652350.75   \n",
       "4     17800      Emil       Reif        Magisk          dk     1416448.64   \n",
       "\n",
       "                               Game                 Genre  \n",
       "0  Counter-Strike: Global Offensive  First-Person Shooter  \n",
       "1  Counter-Strike: Global Offensive  First-Person Shooter  \n",
       "2  Counter-Strike: Global Offensive  First-Person Shooter  \n",
       "3  Counter-Strike: Global Offensive  First-Person Shooter  \n",
       "4  Counter-Strike: Global Offensive  First-Person Shooter  "
      ]
     },
     "execution_count": 6,
     "metadata": {},
     "output_type": "execute_result"
    }
   ],
   "source": [
    "players_df.head()"
   ]
  },
  {
   "cell_type": "code",
   "execution_count": 7,
   "metadata": {},
   "outputs": [
    {
     "data": {
      "text/html": [
       "<div>\n",
       "<style scoped>\n",
       "    .dataframe tbody tr th:only-of-type {\n",
       "        vertical-align: middle;\n",
       "    }\n",
       "\n",
       "    .dataframe tbody tr th {\n",
       "        vertical-align: top;\n",
       "    }\n",
       "\n",
       "    .dataframe thead th {\n",
       "        text-align: right;\n",
       "    }\n",
       "</style>\n",
       "<table border=\"1\" class=\"dataframe\">\n",
       "  <thead>\n",
       "    <tr style=\"text-align: right;\">\n",
       "      <th>1</th>\n",
       "      <th>Week</th>\n",
       "      <th>League_of_Legends</th>\n",
       "      <th>Dota_2</th>\n",
       "      <th>Fortnite</th>\n",
       "      <th>PUBG</th>\n",
       "      <th>CSGO</th>\n",
       "    </tr>\n",
       "  </thead>\n",
       "  <tbody>\n",
       "    <tr>\n",
       "      <th>2</th>\n",
       "      <td>9/6/2020</td>\n",
       "      <td>26</td>\n",
       "      <td>5</td>\n",
       "      <td>74</td>\n",
       "      <td>76</td>\n",
       "      <td>11</td>\n",
       "    </tr>\n",
       "    <tr>\n",
       "      <th>3</th>\n",
       "      <td>9/13/2020</td>\n",
       "      <td>26</td>\n",
       "      <td>5</td>\n",
       "      <td>72</td>\n",
       "      <td>53</td>\n",
       "      <td>11</td>\n",
       "    </tr>\n",
       "    <tr>\n",
       "      <th>4</th>\n",
       "      <td>9/20/2020</td>\n",
       "      <td>27</td>\n",
       "      <td>5</td>\n",
       "      <td>72</td>\n",
       "      <td>45</td>\n",
       "      <td>11</td>\n",
       "    </tr>\n",
       "    <tr>\n",
       "      <th>5</th>\n",
       "      <td>9/27/2020</td>\n",
       "      <td>31</td>\n",
       "      <td>4</td>\n",
       "      <td>65</td>\n",
       "      <td>41</td>\n",
       "      <td>11</td>\n",
       "    </tr>\n",
       "    <tr>\n",
       "      <th>6</th>\n",
       "      <td>10/4/2020</td>\n",
       "      <td>30</td>\n",
       "      <td>4</td>\n",
       "      <td>57</td>\n",
       "      <td>39</td>\n",
       "      <td>10</td>\n",
       "    </tr>\n",
       "  </tbody>\n",
       "</table>\n",
       "</div>"
      ],
      "text/plain": [
       "1       Week League_of_Legends Dota_2 Fortnite PUBG CSGO\n",
       "2   9/6/2020                26      5       74   76   11\n",
       "3  9/13/2020                26      5       72   53   11\n",
       "4  9/20/2020                27      5       72   45   11\n",
       "5  9/27/2020                31      4       65   41   11\n",
       "6  10/4/2020                30      4       57   39   10"
      ]
     },
     "execution_count": 7,
     "metadata": {},
     "output_type": "execute_result"
    }
   ],
   "source": [
    "time_trends_df = time_trends_df.drop([0])\n",
    "## Need to fix headers\n",
    "new_header = time_trends_df.iloc[0]\n",
    "time_trends_df = time_trends_df[1:]\n",
    "time_trends_df.columns = new_header\n",
    "time_trends_df = time_trends_df.rename(columns={\"League of Legends: (Worldwide)\" : \"League_of_Legends\", \n",
    "                                              \"Dota 2: (Worldwide)\" : \"Dota_2\",\n",
    "                                              \"Fortnite: (Worldwide)\" : \"Fortnite\",\n",
    "                                              \"PlayerUnknown's Battlegrounds: (Worldwide)\" : \"PUBG\",\n",
    "                                              \"Counter-Strike: Global Offensive: (Worldwide)\" : \"CSGO\"\n",
    "                                             })\n",
    "time_trends_df.head()"
   ]
  },
  {
   "cell_type": "code",
   "execution_count": 8,
   "metadata": {},
   "outputs": [
    {
     "data": {
      "text/html": [
       "<div>\n",
       "<style scoped>\n",
       "    .dataframe tbody tr th:only-of-type {\n",
       "        vertical-align: middle;\n",
       "    }\n",
       "\n",
       "    .dataframe tbody tr th {\n",
       "        vertical-align: top;\n",
       "    }\n",
       "\n",
       "    .dataframe thead th {\n",
       "        text-align: right;\n",
       "    }\n",
       "</style>\n",
       "<table border=\"1\" class=\"dataframe\">\n",
       "  <thead>\n",
       "    <tr style=\"text-align: right;\">\n",
       "      <th>1</th>\n",
       "      <th>Albania</th>\n",
       "      <th>League_of_Legends</th>\n",
       "      <th>Dota_2</th>\n",
       "      <th>Fortnite</th>\n",
       "      <th>PUBG</th>\n",
       "      <th>CSGO</th>\n",
       "    </tr>\n",
       "  </thead>\n",
       "  <tbody>\n",
       "    <tr>\n",
       "      <th>2</th>\n",
       "      <td>Algeria</td>\n",
       "      <td>&lt;1%</td>\n",
       "      <td>&lt;1%</td>\n",
       "      <td>9%</td>\n",
       "      <td>91%</td>\n",
       "      <td>&lt;1%</td>\n",
       "    </tr>\n",
       "    <tr>\n",
       "      <th>3</th>\n",
       "      <td>American Samoa</td>\n",
       "      <td>2%</td>\n",
       "      <td>1%</td>\n",
       "      <td>3%</td>\n",
       "      <td>94%</td>\n",
       "      <td>&lt;1%</td>\n",
       "    </tr>\n",
       "    <tr>\n",
       "      <th>4</th>\n",
       "      <td>Andorra</td>\n",
       "      <td>8%</td>\n",
       "      <td>11%</td>\n",
       "      <td>3%</td>\n",
       "      <td>75%</td>\n",
       "      <td>3%</td>\n",
       "    </tr>\n",
       "    <tr>\n",
       "      <th>5</th>\n",
       "      <td>Angola</td>\n",
       "      <td>NaN</td>\n",
       "      <td>NaN</td>\n",
       "      <td>NaN</td>\n",
       "      <td>100%</td>\n",
       "      <td>NaN</td>\n",
       "    </tr>\n",
       "    <tr>\n",
       "      <th>6</th>\n",
       "      <td>Anguilla</td>\n",
       "      <td>1%</td>\n",
       "      <td>&lt;1%</td>\n",
       "      <td>7%</td>\n",
       "      <td>92%</td>\n",
       "      <td>&lt;1%</td>\n",
       "    </tr>\n",
       "  </tbody>\n",
       "</table>\n",
       "</div>"
      ],
      "text/plain": [
       "1         Albania League_of_Legends Dota_2 Fortnite  PUBG CSGO\n",
       "2         Algeria               <1%    <1%       9%   91%  <1%\n",
       "3  American Samoa                2%     1%       3%   94%  <1%\n",
       "4         Andorra                8%    11%       3%   75%   3%\n",
       "5          Angola               NaN    NaN      NaN  100%  NaN\n",
       "6        Anguilla                1%    <1%       7%   92%  <1%"
      ]
     },
     "execution_count": 8,
     "metadata": {},
     "output_type": "execute_result"
    }
   ],
   "source": [
    "trends_geo_df = trends_geo_df.drop([0])\n",
    "## Need to fix headers\n",
    "new_header = trends_geo_df.iloc[0]\n",
    "trends_geo_df = trends_geo_df[1:]\n",
    "trends_geo_df.columns = new_header\n",
    "trends_geo_df = trends_geo_df.rename(columns={\"League of Legends: (9/1/20 - 9/1/21)\" : \"League_of_Legends\", \n",
    "                                              \"Dota 2: (9/1/20 - 9/1/21)\" : \"Dota_2\",\n",
    "                                              \"Fortnite: (9/1/20 - 9/1/21)\" : \"Fortnite\",\n",
    "                                              \"PlayerUnknown's Battlegrounds: (9/1/20 - 9/1/21)\" : \"PUBG\",\n",
    "                                              \"Counter-Strike: Global Offensive: (9/1/20 - 9/1/21)\" : \"CSGO\"\n",
    "                                             })\n",
    "trends_geo_df.head()"
   ]
  },
  {
   "cell_type": "code",
   "execution_count": 9,
   "metadata": {},
   "outputs": [
    {
     "data": {
      "text/html": [
       "<div>\n",
       "<style scoped>\n",
       "    .dataframe tbody tr th:only-of-type {\n",
       "        vertical-align: middle;\n",
       "    }\n",
       "\n",
       "    .dataframe tbody tr th {\n",
       "        vertical-align: top;\n",
       "    }\n",
       "\n",
       "    .dataframe thead th {\n",
       "        text-align: right;\n",
       "    }\n",
       "</style>\n",
       "<table border=\"1\" class=\"dataframe\">\n",
       "  <thead>\n",
       "    <tr style=\"text-align: right;\">\n",
       "      <th></th>\n",
       "      <th>Game</th>\n",
       "      <th>ReleaseDate</th>\n",
       "      <th>TotalEarnings</th>\n",
       "      <th>OnlineEarnings</th>\n",
       "      <th>TotalPlayers</th>\n",
       "      <th>TotalTournaments</th>\n",
       "    </tr>\n",
       "  </thead>\n",
       "  <tbody>\n",
       "    <tr>\n",
       "      <th>0</th>\n",
       "      <td>Age of Empires</td>\n",
       "      <td>1997</td>\n",
       "      <td>190262.81</td>\n",
       "      <td>156839.89</td>\n",
       "      <td>255</td>\n",
       "      <td>96</td>\n",
       "    </tr>\n",
       "    <tr>\n",
       "      <th>1</th>\n",
       "      <td>Age of Empires II</td>\n",
       "      <td>1999</td>\n",
       "      <td>2008941.78</td>\n",
       "      <td>619582.87</td>\n",
       "      <td>1392</td>\n",
       "      <td>1031</td>\n",
       "    </tr>\n",
       "    <tr>\n",
       "      <th>2</th>\n",
       "      <td>Age of Empires III</td>\n",
       "      <td>2005</td>\n",
       "      <td>68613.85</td>\n",
       "      <td>41500.00</td>\n",
       "      <td>108</td>\n",
       "      <td>77</td>\n",
       "    </tr>\n",
       "    <tr>\n",
       "      <th>3</th>\n",
       "      <td>Age of Empires Online</td>\n",
       "      <td>2011</td>\n",
       "      <td>4853.56</td>\n",
       "      <td>775.00</td>\n",
       "      <td>20</td>\n",
       "      <td>13</td>\n",
       "    </tr>\n",
       "    <tr>\n",
       "      <th>4</th>\n",
       "      <td>Age of Mythology</td>\n",
       "      <td>2002</td>\n",
       "      <td>52360.00</td>\n",
       "      <td>52000.00</td>\n",
       "      <td>22</td>\n",
       "      <td>6</td>\n",
       "    </tr>\n",
       "  </tbody>\n",
       "</table>\n",
       "</div>"
      ],
      "text/plain": [
       "                    Game  ReleaseDate  TotalEarnings  OnlineEarnings  \\\n",
       "0         Age of Empires         1997      190262.81       156839.89   \n",
       "1      Age of Empires II         1999     2008941.78       619582.87   \n",
       "2     Age of Empires III         2005       68613.85        41500.00   \n",
       "3  Age of Empires Online         2011        4853.56          775.00   \n",
       "4       Age of Mythology         2002       52360.00        52000.00   \n",
       "\n",
       "   TotalPlayers  TotalTournaments  \n",
       "0           255                96  \n",
       "1          1392              1031  \n",
       "2           108                77  \n",
       "3            20                13  \n",
       "4            22                 6  "
      ]
     },
     "execution_count": 9,
     "metadata": {},
     "output_type": "execute_result"
    }
   ],
   "source": [
    "general_data_df.drop(columns = [\"Genre\"]).head()"
   ]
  },
  {
   "cell_type": "code",
   "execution_count": 10,
   "metadata": {},
   "outputs": [
    {
     "data": {
      "text/html": [
       "<div>\n",
       "<style scoped>\n",
       "    .dataframe tbody tr th:only-of-type {\n",
       "        vertical-align: middle;\n",
       "    }\n",
       "\n",
       "    .dataframe tbody tr th {\n",
       "        vertical-align: top;\n",
       "    }\n",
       "\n",
       "    .dataframe thead th {\n",
       "        text-align: right;\n",
       "    }\n",
       "</style>\n",
       "<table border=\"1\" class=\"dataframe\">\n",
       "  <thead>\n",
       "    <tr style=\"text-align: right;\">\n",
       "      <th></th>\n",
       "      <th>Date</th>\n",
       "      <th>Game</th>\n",
       "      <th>Earnings</th>\n",
       "      <th>Players</th>\n",
       "      <th>Tournaments</th>\n",
       "    </tr>\n",
       "  </thead>\n",
       "  <tbody>\n",
       "    <tr>\n",
       "      <th>0</th>\n",
       "      <td>1998-01-01</td>\n",
       "      <td>QuakeWorld</td>\n",
       "      <td>15000.0</td>\n",
       "      <td>8</td>\n",
       "      <td>1</td>\n",
       "    </tr>\n",
       "    <tr>\n",
       "      <th>1</th>\n",
       "      <td>1998-05-01</td>\n",
       "      <td>Quake II</td>\n",
       "      <td>14600.0</td>\n",
       "      <td>4</td>\n",
       "      <td>1</td>\n",
       "    </tr>\n",
       "    <tr>\n",
       "      <th>2</th>\n",
       "      <td>1998-07-01</td>\n",
       "      <td>Quake II</td>\n",
       "      <td>15000.0</td>\n",
       "      <td>5</td>\n",
       "      <td>1</td>\n",
       "    </tr>\n",
       "    <tr>\n",
       "      <th>3</th>\n",
       "      <td>1998-07-01</td>\n",
       "      <td>QuakeWorld</td>\n",
       "      <td>6500.0</td>\n",
       "      <td>4</td>\n",
       "      <td>1</td>\n",
       "    </tr>\n",
       "    <tr>\n",
       "      <th>4</th>\n",
       "      <td>1998-11-01</td>\n",
       "      <td>Quake II</td>\n",
       "      <td>36600.0</td>\n",
       "      <td>13</td>\n",
       "      <td>2</td>\n",
       "    </tr>\n",
       "  </tbody>\n",
       "</table>\n",
       "</div>"
      ],
      "text/plain": [
       "         Date        Game  Earnings  Players  Tournaments\n",
       "0  1998-01-01  QuakeWorld   15000.0        8            1\n",
       "1  1998-05-01    Quake II   14600.0        4            1\n",
       "2  1998-07-01    Quake II   15000.0        5            1\n",
       "3  1998-07-01  QuakeWorld    6500.0        4            1\n",
       "4  1998-11-01    Quake II   36600.0       13            2"
      ]
     },
     "execution_count": 10,
     "metadata": {},
     "output_type": "execute_result"
    }
   ],
   "source": [
    "historical_data_df.head()"
   ]
  },
  {
   "cell_type": "markdown",
   "metadata": {},
   "source": [
    "## Create Database"
   ]
  },
  {
   "cell_type": "code",
   "execution_count": 11,
   "metadata": {},
   "outputs": [],
   "source": [
    "## Dependencies\n",
    "from sqlalchemy import create_engine\n",
    "from hiddenConfig import password\n",
    "import psycopg2"
   ]
  },
  {
   "cell_type": "code",
   "execution_count": 12,
   "metadata": {},
   "outputs": [
    {
     "name": "stdout",
     "output_type": "stream",
     "text": [
      "'esports_db' Database already exists\n"
     ]
    }
   ],
   "source": [
    "## establishing the connection with database. This checks whether or not the database exists before creation. If it is,\n",
    "## it will tell you. Then move onto the next cell\n",
    "conn = None\n",
    "try:\n",
    "    conn = psycopg2.connect(\n",
    "       database=\"postgres\", user='postgres', password=password, host='127.0.0.1', port= '5432'\n",
    "    )\n",
    "\n",
    "except:\n",
    "    print('Database not connected.')\n",
    "    \n",
    "if conn is not None:\n",
    "    conn.autocommit = True\n",
    "\n",
    "    #Creating a cursor object\n",
    "    cursor = conn.cursor()\n",
    "\n",
    "    cursor.execute(\"SELECT datname FROM pg_database;\")\n",
    "    \n",
    "    list_database = cursor.fetchall()\n",
    "    database_name = 'esports_db'\n",
    "    \n",
    "    if (database_name,) in list_database:\n",
    "        print(f\"'{database_name}' Database already exists\")\n",
    "    else:\n",
    "        #Preparing query to create a database\n",
    "        sql = '''CREATE database esports_db''';\n",
    "\n",
    "        #Creating a database\n",
    "        cursor.execute(sql)\n",
    "        print(\"Database created successfully!\")\n",
    "\n",
    "    #Closing the connection\n",
    "    conn.close()"
   ]
  },
  {
   "cell_type": "code",
   "execution_count": 13,
   "metadata": {},
   "outputs": [],
   "source": [
    "## Connect to local database\n",
    "rds_connection_string = f\"postgres:{password}@localhost:5432/esports_db\"\n",
    "engine = create_engine(f'postgresql://{rds_connection_string}')"
   ]
  },
  {
   "cell_type": "code",
   "execution_count": 14,
   "metadata": {},
   "outputs": [
    {
     "data": {
      "text/plain": [
       "['cont_code_data',\n",
       " 'team_data',\n",
       " 'trends_geo_data',\n",
       " 'player_data',\n",
       " 'time_trends_data',\n",
       " 'general_data',\n",
       " 'historical_data',\n",
       " 'small_bar_race_data',\n",
       " 'grouped_game_data',\n",
       " 'grouped_bar_race_data']"
      ]
     },
     "execution_count": 14,
     "metadata": {},
     "output_type": "execute_result"
    }
   ],
   "source": [
    "## Check to see if there are any tables already in the database\n",
    "engine.table_names()"
   ]
  },
  {
   "cell_type": "markdown",
   "metadata": {},
   "source": [
    "#### Load the dataframes into our database"
   ]
  },
  {
   "cell_type": "code",
   "execution_count": 15,
   "metadata": {},
   "outputs": [],
   "source": [
    "cont_code_df.to_sql(name='cont_code_data', con=engine, if_exists='replace', index=False)\n",
    "teams_df.to_sql(name='team_data', con=engine, if_exists='replace', index=False)\n",
    "trends_geo_df.to_sql(name='trends_geo_data', con=engine, if_exists='replace', index=False)\n",
    "players_df.to_sql(name='player_data', con=engine, if_exists='replace', index=False)\n",
    "time_trends_df.to_sql(name='time_trends_data', con=engine, if_exists='replace', index=False)\n",
    "general_data_df.to_sql(name='general_data', con=engine, if_exists='replace', index=False)\n",
    "historical_data_df.to_sql(name='historical_data', con=engine, if_exists='replace', index=False)"
   ]
  },
  {
   "cell_type": "markdown",
   "metadata": {},
   "source": [
    "#### Check to make sure it worked OK"
   ]
  },
  {
   "cell_type": "code",
   "execution_count": 16,
   "metadata": {},
   "outputs": [
    {
     "data": {
      "text/plain": [
       "('Asia', 'AS', 'Afghanistan', 'AF', 'AFG', 4.0)"
      ]
     },
     "execution_count": 16,
     "metadata": {},
     "output_type": "execute_result"
    }
   ],
   "source": [
    "engine.execute('select * from cont_code_data').first()"
   ]
  },
  {
   "cell_type": "code",
   "execution_count": 17,
   "metadata": {},
   "outputs": [
    {
     "data": {
      "text/plain": [
       "(760, 'San Francisco Shock', 3105000.0, 7, 'Overwatch', 'First-Person Shooter')"
      ]
     },
     "execution_count": 17,
     "metadata": {},
     "output_type": "execute_result"
    }
   ],
   "source": [
    "engine.execute('select * from team_data').first()"
   ]
  },
  {
   "cell_type": "code",
   "execution_count": 18,
   "metadata": {},
   "outputs": [
    {
     "data": {
      "text/plain": [
       "('Algeria', '<1%', '<1%', '9%', '91%', '<1%')"
      ]
     },
     "execution_count": 18,
     "metadata": {},
     "output_type": "execute_result"
    }
   ],
   "source": [
    "engine.execute('select * from trends_geo_data').first()"
   ]
  },
  {
   "cell_type": "code",
   "execution_count": 19,
   "metadata": {},
   "outputs": [
    {
     "data": {
      "text/plain": [
       "(3883, 'Peter', 'Rasmussen', 'dupreeh', 'dk', 1822989.41, 'Counter-Strike: Global Offensive', 'First-Person Shooter')"
      ]
     },
     "execution_count": 19,
     "metadata": {},
     "output_type": "execute_result"
    }
   ],
   "source": [
    "engine.execute('select * from player_data').first()"
   ]
  },
  {
   "cell_type": "code",
   "execution_count": 20,
   "metadata": {},
   "outputs": [
    {
     "data": {
      "text/plain": [
       "('9/6/2020', '26', '5', '74', '76', '11')"
      ]
     },
     "execution_count": 20,
     "metadata": {},
     "output_type": "execute_result"
    }
   ],
   "source": [
    "engine.execute('select * from time_trends_data').first()"
   ]
  },
  {
   "cell_type": "code",
   "execution_count": 21,
   "metadata": {},
   "outputs": [
    {
     "data": {
      "text/plain": [
       "('Age of Empires', 1997, None, 190262.81, 156839.89, 255, 96)"
      ]
     },
     "execution_count": 21,
     "metadata": {},
     "output_type": "execute_result"
    }
   ],
   "source": [
    "engine.execute('select * from general_data').first()"
   ]
  },
  {
   "cell_type": "code",
   "execution_count": 22,
   "metadata": {},
   "outputs": [
    {
     "data": {
      "text/plain": [
       "('1998-01-01', 'QuakeWorld', 15000.0, 8, 1)"
      ]
     },
     "execution_count": 22,
     "metadata": {},
     "output_type": "execute_result"
    }
   ],
   "source": [
    "engine.execute('select * from historical_data').first()"
   ]
  },
  {
   "cell_type": "code",
   "execution_count": 23,
   "metadata": {},
   "outputs": [],
   "source": [
    "historical_data_df['Date'] = pd.to_datetime(historical_data_df['Date'],format='%Y/%m/%d')"
   ]
  },
  {
   "cell_type": "code",
   "execution_count": null,
   "metadata": {},
   "outputs": [],
   "source": [
    "historical_data_df.head()"
   ]
  },
  {
   "cell_type": "markdown",
   "metadata": {},
   "source": [
    "## Create cleaned table for josiah endpoint"
   ]
  },
  {
   "cell_type": "code",
   "execution_count": 25,
   "metadata": {},
   "outputs": [
    {
     "data": {
      "text/html": [
       "<div>\n",
       "<style scoped>\n",
       "    .dataframe tbody tr th:only-of-type {\n",
       "        vertical-align: middle;\n",
       "    }\n",
       "\n",
       "    .dataframe tbody tr th {\n",
       "        vertical-align: top;\n",
       "    }\n",
       "\n",
       "    .dataframe thead th {\n",
       "        text-align: right;\n",
       "    }\n",
       "</style>\n",
       "<table border=\"1\" class=\"dataframe\">\n",
       "  <thead>\n",
       "    <tr style=\"text-align: right;\">\n",
       "      <th></th>\n",
       "      <th>Date</th>\n",
       "      <th>Game</th>\n",
       "      <th>Earnings</th>\n",
       "      <th>Players</th>\n",
       "      <th>Tournaments</th>\n",
       "      <th>year</th>\n",
       "    </tr>\n",
       "  </thead>\n",
       "  <tbody>\n",
       "    <tr>\n",
       "      <th>0</th>\n",
       "      <td>1998-01-01</td>\n",
       "      <td>QuakeWorld</td>\n",
       "      <td>15000.0</td>\n",
       "      <td>8</td>\n",
       "      <td>1</td>\n",
       "      <td>1998</td>\n",
       "    </tr>\n",
       "    <tr>\n",
       "      <th>1</th>\n",
       "      <td>1998-05-01</td>\n",
       "      <td>Quake II</td>\n",
       "      <td>14600.0</td>\n",
       "      <td>4</td>\n",
       "      <td>1</td>\n",
       "      <td>1998</td>\n",
       "    </tr>\n",
       "    <tr>\n",
       "      <th>2</th>\n",
       "      <td>1998-07-01</td>\n",
       "      <td>Quake II</td>\n",
       "      <td>15000.0</td>\n",
       "      <td>5</td>\n",
       "      <td>1</td>\n",
       "      <td>1998</td>\n",
       "    </tr>\n",
       "    <tr>\n",
       "      <th>3</th>\n",
       "      <td>1998-07-01</td>\n",
       "      <td>QuakeWorld</td>\n",
       "      <td>6500.0</td>\n",
       "      <td>4</td>\n",
       "      <td>1</td>\n",
       "      <td>1998</td>\n",
       "    </tr>\n",
       "    <tr>\n",
       "      <th>4</th>\n",
       "      <td>1998-11-01</td>\n",
       "      <td>Quake II</td>\n",
       "      <td>36600.0</td>\n",
       "      <td>13</td>\n",
       "      <td>2</td>\n",
       "      <td>1998</td>\n",
       "    </tr>\n",
       "  </tbody>\n",
       "</table>\n",
       "</div>"
      ],
      "text/plain": [
       "        Date        Game  Earnings  Players  Tournaments  year\n",
       "0 1998-01-01  QuakeWorld   15000.0        8            1  1998\n",
       "1 1998-05-01    Quake II   14600.0        4            1  1998\n",
       "2 1998-07-01    Quake II   15000.0        5            1  1998\n",
       "3 1998-07-01  QuakeWorld    6500.0        4            1  1998\n",
       "4 1998-11-01    Quake II   36600.0       13            2  1998"
      ]
     },
     "execution_count": 25,
     "metadata": {},
     "output_type": "execute_result"
    }
   ],
   "source": [
    "historical_data_df['year'] = pd.DatetimeIndex(historical_data_df['Date']).year\n",
    "historical_data_df.head()"
   ]
  },
  {
   "cell_type": "code",
   "execution_count": 26,
   "metadata": {},
   "outputs": [],
   "source": [
    "grouped = historical_data_df.groupby([\"Game\", \"year\"]).agg({'Earnings' : ['sum']})"
   ]
  },
  {
   "cell_type": "code",
   "execution_count": 27,
   "metadata": {},
   "outputs": [
    {
     "data": {
      "text/html": [
       "<div>\n",
       "<style scoped>\n",
       "    .dataframe tbody tr th:only-of-type {\n",
       "        vertical-align: middle;\n",
       "    }\n",
       "\n",
       "    .dataframe tbody tr th {\n",
       "        vertical-align: top;\n",
       "    }\n",
       "\n",
       "    .dataframe thead th {\n",
       "        text-align: right;\n",
       "    }\n",
       "</style>\n",
       "<table border=\"1\" class=\"dataframe\">\n",
       "  <thead>\n",
       "    <tr style=\"text-align: right;\">\n",
       "      <th></th>\n",
       "      <th>Game</th>\n",
       "      <th>Year</th>\n",
       "      <th>Earnings</th>\n",
       "    </tr>\n",
       "  </thead>\n",
       "  <tbody>\n",
       "    <tr>\n",
       "      <th>0</th>\n",
       "      <td>ARMS</td>\n",
       "      <td>2017</td>\n",
       "      <td>3257.10</td>\n",
       "    </tr>\n",
       "    <tr>\n",
       "      <th>1</th>\n",
       "      <td>ARMS</td>\n",
       "      <td>2018</td>\n",
       "      <td>13297.14</td>\n",
       "    </tr>\n",
       "    <tr>\n",
       "      <th>2</th>\n",
       "      <td>ARMS</td>\n",
       "      <td>2019</td>\n",
       "      <td>1970.86</td>\n",
       "    </tr>\n",
       "    <tr>\n",
       "      <th>3</th>\n",
       "      <td>ARMS</td>\n",
       "      <td>2020</td>\n",
       "      <td>789.17</td>\n",
       "    </tr>\n",
       "    <tr>\n",
       "      <th>4</th>\n",
       "      <td>ARMS</td>\n",
       "      <td>2021</td>\n",
       "      <td>816.50</td>\n",
       "    </tr>\n",
       "  </tbody>\n",
       "</table>\n",
       "</div>"
      ],
      "text/plain": [
       "   Game  Year  Earnings\n",
       "0  ARMS  2017   3257.10\n",
       "1  ARMS  2018  13297.14\n",
       "2  ARMS  2019   1970.86\n",
       "3  ARMS  2020    789.17\n",
       "4  ARMS  2021    816.50"
      ]
     },
     "execution_count": 27,
     "metadata": {},
     "output_type": "execute_result"
    }
   ],
   "source": [
    "grouped = grouped.reset_index()\n",
    "grouped = grouped.set_axis(['Game', 'Year', 'Earnings'], axis=1, inplace=False)\n",
    "grouped.head()"
   ]
  },
  {
   "cell_type": "code",
   "execution_count": 28,
   "metadata": {},
   "outputs": [],
   "source": [
    "grouped.to_sql(name='grouped_game_data', con=engine, if_exists='replace', index=False)"
   ]
  },
  {
   "cell_type": "code",
   "execution_count": 29,
   "metadata": {},
   "outputs": [
    {
     "data": {
      "text/plain": [
       "('ARMS', 2017, 3257.1)"
      ]
     },
     "execution_count": 29,
     "metadata": {},
     "output_type": "execute_result"
    }
   ],
   "source": [
    "engine.execute('select * from grouped_game_data').first()"
   ]
  },
  {
   "cell_type": "markdown",
   "metadata": {},
   "source": [
    "## Get data more similar to source code for duncan"
   ]
  },
  {
   "cell_type": "code",
   "execution_count": 30,
   "metadata": {},
   "outputs": [
    {
     "name": "stdout",
     "output_type": "stream",
     "text": [
      "Game\n",
      "Year\n",
      "Earnings\n"
     ]
    }
   ],
   "source": [
    "for col in grouped.columns:\n",
    "    print(col)"
   ]
  },
  {
   "cell_type": "code",
   "execution_count": 31,
   "metadata": {},
   "outputs": [],
   "source": [
    "newdf = historical_data_df.groupby([\"year\", \"Game\"]).agg({'Earnings' : ['sum']}).reset_index().set_axis(['Year', 'Game', 'Earnings'], axis=1, inplace=False)"
   ]
  },
  {
   "cell_type": "code",
   "execution_count": 32,
   "metadata": {},
   "outputs": [
    {
     "data": {
      "text/html": [
       "<div>\n",
       "<style scoped>\n",
       "    .dataframe tbody tr th:only-of-type {\n",
       "        vertical-align: middle;\n",
       "    }\n",
       "\n",
       "    .dataframe tbody tr th {\n",
       "        vertical-align: top;\n",
       "    }\n",
       "\n",
       "    .dataframe thead th {\n",
       "        text-align: right;\n",
       "    }\n",
       "</style>\n",
       "<table border=\"1\" class=\"dataframe\">\n",
       "  <thead>\n",
       "    <tr style=\"text-align: right;\">\n",
       "      <th></th>\n",
       "      <th>Year</th>\n",
       "      <th>Game</th>\n",
       "      <th>Earnings</th>\n",
       "    </tr>\n",
       "  </thead>\n",
       "  <tbody>\n",
       "    <tr>\n",
       "      <th>0</th>\n",
       "      <td>1998</td>\n",
       "      <td>Age of Empires</td>\n",
       "      <td>2000.0</td>\n",
       "    </tr>\n",
       "    <tr>\n",
       "      <th>1</th>\n",
       "      <td>1998</td>\n",
       "      <td>Quake II</td>\n",
       "      <td>66200.0</td>\n",
       "    </tr>\n",
       "    <tr>\n",
       "      <th>2</th>\n",
       "      <td>1998</td>\n",
       "      <td>QuakeWorld</td>\n",
       "      <td>43500.0</td>\n",
       "    </tr>\n",
       "    <tr>\n",
       "      <th>3</th>\n",
       "      <td>1998</td>\n",
       "      <td>StarCraft: Brood War</td>\n",
       "      <td>20000.0</td>\n",
       "    </tr>\n",
       "    <tr>\n",
       "      <th>4</th>\n",
       "      <td>1999</td>\n",
       "      <td>Descent 3</td>\n",
       "      <td>50000.0</td>\n",
       "    </tr>\n",
       "  </tbody>\n",
       "</table>\n",
       "</div>"
      ],
      "text/plain": [
       "   Year                  Game  Earnings\n",
       "0  1998        Age of Empires    2000.0\n",
       "1  1998              Quake II   66200.0\n",
       "2  1998            QuakeWorld   43500.0\n",
       "3  1998  StarCraft: Brood War   20000.0\n",
       "4  1999             Descent 3   50000.0"
      ]
     },
     "execution_count": 32,
     "metadata": {},
     "output_type": "execute_result"
    }
   ],
   "source": [
    "newdf.head()"
   ]
  },
  {
   "cell_type": "code",
   "execution_count": 33,
   "metadata": {},
   "outputs": [
    {
     "data": {
      "text/plain": [
       "(1998, 'Age of Empires', 2000.0)"
      ]
     },
     "execution_count": 33,
     "metadata": {},
     "output_type": "execute_result"
    }
   ],
   "source": [
    "newdf.to_sql(name='grouped_bar_race_data', con=engine, if_exists='replace', index=False)\n",
    "engine.execute('select * from grouped_bar_race_data').first()"
   ]
  },
  {
   "cell_type": "code",
   "execution_count": 34,
   "metadata": {},
   "outputs": [
    {
     "data": {
      "text/plain": [
       "2021"
      ]
     },
     "execution_count": 34,
     "metadata": {},
     "output_type": "execute_result"
    }
   ],
   "source": [
    "newdf[\"Year\"].max()"
   ]
  },
  {
   "cell_type": "code",
   "execution_count": 35,
   "metadata": {},
   "outputs": [],
   "source": [
    "newnewdf = newdf[(newdf['Year'] >= 2016)]"
   ]
  },
  {
   "cell_type": "code",
   "execution_count": 36,
   "metadata": {},
   "outputs": [
    {
     "data": {
      "text/html": [
       "<div>\n",
       "<style scoped>\n",
       "    .dataframe tbody tr th:only-of-type {\n",
       "        vertical-align: middle;\n",
       "    }\n",
       "\n",
       "    .dataframe tbody tr th {\n",
       "        vertical-align: top;\n",
       "    }\n",
       "\n",
       "    .dataframe thead th {\n",
       "        text-align: right;\n",
       "    }\n",
       "</style>\n",
       "<table border=\"1\" class=\"dataframe\">\n",
       "  <thead>\n",
       "    <tr style=\"text-align: right;\">\n",
       "      <th></th>\n",
       "      <th>Year</th>\n",
       "      <th>Game</th>\n",
       "      <th>Earnings</th>\n",
       "    </tr>\n",
       "  </thead>\n",
       "  <tbody>\n",
       "    <tr>\n",
       "      <th>1161</th>\n",
       "      <td>2019</td>\n",
       "      <td>Fortnite</td>\n",
       "      <td>72800079.01</td>\n",
       "    </tr>\n",
       "    <tr>\n",
       "      <th>1151</th>\n",
       "      <td>2019</td>\n",
       "      <td>Dota 2</td>\n",
       "      <td>47043520.56</td>\n",
       "    </tr>\n",
       "    <tr>\n",
       "      <th>995</th>\n",
       "      <td>2018</td>\n",
       "      <td>Dota 2</td>\n",
       "      <td>41457368.99</td>\n",
       "    </tr>\n",
       "    <tr>\n",
       "      <th>862</th>\n",
       "      <td>2017</td>\n",
       "      <td>Dota 2</td>\n",
       "      <td>38074599.32</td>\n",
       "    </tr>\n",
       "    <tr>\n",
       "      <th>739</th>\n",
       "      <td>2016</td>\n",
       "      <td>Dota 2</td>\n",
       "      <td>37464419.92</td>\n",
       "    </tr>\n",
       "  </tbody>\n",
       "</table>\n",
       "</div>"
      ],
      "text/plain": [
       "      Year      Game     Earnings\n",
       "1161  2019  Fortnite  72800079.01\n",
       "1151  2019    Dota 2  47043520.56\n",
       "995   2018    Dota 2  41457368.99\n",
       "862   2017    Dota 2  38074599.32\n",
       "739   2016    Dota 2  37464419.92"
      ]
     },
     "execution_count": 36,
     "metadata": {},
     "output_type": "execute_result"
    }
   ],
   "source": [
    "newnewdf.nlargest(5, 'Earnings')"
   ]
  },
  {
   "cell_type": "code",
   "execution_count": 37,
   "metadata": {},
   "outputs": [],
   "source": [
    "smaller_df = newnewdf.groupby(['Year'])['Earnings'].nlargest(10).reset_index().set_index('level_1')"
   ]
  },
  {
   "cell_type": "code",
   "execution_count": 38,
   "metadata": {},
   "outputs": [],
   "source": [
    "indexed_smaller_df = smaller_df.join(newnewdf, how='left', lsuffix='_left', rsuffix='_right')"
   ]
  },
  {
   "cell_type": "code",
   "execution_count": 39,
   "metadata": {},
   "outputs": [],
   "source": [
    "cleaned_df = indexed_smaller_df.drop(columns = [\"Year_right\", \"Earnings_left\"]).rename(columns = {\"Year_left\" : \"Year\", \"Earnings_right\" : \"Earnings\"}).reset_index()"
   ]
  },
  {
   "cell_type": "code",
   "execution_count": 40,
   "metadata": {},
   "outputs": [],
   "source": [
    "cleaned_df = cleaned_df.drop(cleaned_df.columns[0], axis=1)"
   ]
  },
  {
   "cell_type": "code",
   "execution_count": 41,
   "metadata": {},
   "outputs": [
    {
     "data": {
      "text/html": [
       "<div>\n",
       "<style scoped>\n",
       "    .dataframe tbody tr th:only-of-type {\n",
       "        vertical-align: middle;\n",
       "    }\n",
       "\n",
       "    .dataframe tbody tr th {\n",
       "        vertical-align: top;\n",
       "    }\n",
       "\n",
       "    .dataframe thead th {\n",
       "        text-align: right;\n",
       "    }\n",
       "</style>\n",
       "<table border=\"1\" class=\"dataframe\">\n",
       "  <thead>\n",
       "    <tr style=\"text-align: right;\">\n",
       "      <th></th>\n",
       "      <th>Year</th>\n",
       "      <th>Game</th>\n",
       "      <th>Earnings</th>\n",
       "    </tr>\n",
       "  </thead>\n",
       "  <tbody>\n",
       "    <tr>\n",
       "      <th>0</th>\n",
       "      <td>2016</td>\n",
       "      <td>Dota 2</td>\n",
       "      <td>37464419.92</td>\n",
       "    </tr>\n",
       "    <tr>\n",
       "      <th>1</th>\n",
       "      <td>2016</td>\n",
       "      <td>Counter-Strike: Global Offensive</td>\n",
       "      <td>17266132.50</td>\n",
       "    </tr>\n",
       "    <tr>\n",
       "      <th>2</th>\n",
       "      <td>2016</td>\n",
       "      <td>League of Legends</td>\n",
       "      <td>10529309.95</td>\n",
       "    </tr>\n",
       "    <tr>\n",
       "      <th>3</th>\n",
       "      <td>2016</td>\n",
       "      <td>Heroes of the Storm</td>\n",
       "      <td>4663149.10</td>\n",
       "    </tr>\n",
       "    <tr>\n",
       "      <th>4</th>\n",
       "      <td>2016</td>\n",
       "      <td>Call of Duty: Black Ops III</td>\n",
       "      <td>3862185.84</td>\n",
       "    </tr>\n",
       "  </tbody>\n",
       "</table>\n",
       "</div>"
      ],
      "text/plain": [
       "   Year                              Game     Earnings\n",
       "0  2016                            Dota 2  37464419.92\n",
       "1  2016  Counter-Strike: Global Offensive  17266132.50\n",
       "2  2016                 League of Legends  10529309.95\n",
       "3  2016               Heroes of the Storm   4663149.10\n",
       "4  2016       Call of Duty: Black Ops III   3862185.84"
      ]
     },
     "execution_count": 41,
     "metadata": {},
     "output_type": "execute_result"
    }
   ],
   "source": [
    "cleaned_df.head()"
   ]
  },
  {
   "cell_type": "code",
   "execution_count": 43,
   "metadata": {},
   "outputs": [
    {
     "data": {
      "text/plain": [
       "[(2016, 'Dota 2', 37464419.92),\n",
       " (2016, 'Counter-Strike: Global Offensive', 17266132.5),\n",
       " (2016, 'League of Legends', 10529309.95),\n",
       " (2016, 'Heroes of the Storm', 4663149.1),\n",
       " (2016, 'Call of Duty: Black Ops III', 3862185.84),\n",
       " (2016, 'Hearthstone', 3455125.46),\n",
       " (2016, 'Halo 5: Guardians', 3411240.03),\n",
       " (2016, 'StarCraft II', 3182918.35),\n",
       " (2016, 'Overwatch', 1996942.76),\n",
       " (2016, 'SMITE', 1638242.04),\n",
       " (2017, 'Dota 2', 38074599.32),\n",
       " (2017, 'Counter-Strike: Global Offensive', 19279544.51),\n",
       " (2017, 'League of Legends', 12233319.22),\n",
       " (2017, 'Heroes of the Storm', 5444449.54),\n",
       " (2017, 'Call of Duty: Infinite Warfare', 4031184.07),\n",
       " (2017, 'Overwatch', 3488230.1),\n",
       " (2017, 'Hearthstone', 3476623.09),\n",
       " (2017, 'StarCraft II', 3413355.85),\n",
       " (2017, 'Halo 5: Guardians', 1748000.0),\n",
       " (2017, 'SMITE', 1567900.0),\n",
       " (2018, 'Dota 2', 41457368.99),\n",
       " (2018, 'Counter-Strike: Global Offensive', 23320178.93),\n",
       " (2018, 'Fortnite', 19880337.0),\n",
       " (2018, 'League of Legends', 14590522.32),\n",
       " (2018, 'PLAYERUNKNOWN’S BATTLEGROUNDS', 8332616.32),\n",
       " (2018, 'Overwatch', 6615791.65),\n",
       " (2018, 'Heroes of the Storm', 5277279.76),\n",
       " (2018, 'Arena of Valor', 5190956.76),\n",
       " (2018, 'Hearthstone', 4717852.27),\n",
       " (2018, 'Call of Duty: World War II', 4287916.69),\n",
       " (2019, 'Fortnite', 72800079.01),\n",
       " (2019, 'Dota 2', 47043520.56),\n",
       " (2019, 'Counter-Strike: Global Offensive', 22199398.24),\n",
       " (2019, 'PLAYERUNKNOWN’S BATTLEGROUNDS', 11327221.08),\n",
       " (2019, 'League of Legends', 9608549.84),\n",
       " (2019, 'Overwatch', 9587036.77),\n",
       " (2019, 'Arena of Valor', 7821265.46),\n",
       " (2019, 'Call of Duty: Black Ops 4', 6383189.0),\n",
       " (2019, 'Rainbow Six Siege', 5066166.82),\n",
       " (2019, 'Hearthstone', 4772553.17),\n",
       " (2020, 'Counter-Strike: Global Offensive', 15893858.09),\n",
       " (2020, 'Arena of Valor', 9500997.45),\n",
       " (2020, 'Dota 2', 9372569.73),\n",
       " (2020, 'Fortnite', 8876401.39),\n",
       " (2020, 'League of Legends', 8466911.57),\n",
       " (2020, 'Call of Duty: Modern Warfare', 7152172.0),\n",
       " (2020, \"PLAYERUNKNOWN'S BATTLEGROUNDS Mobile\", 6187727.95),\n",
       " (2020, 'Rainbow Six Siege', 5612640.43),\n",
       " (2020, 'Overwatch', 5358996.0),\n",
       " (2020, 'PLAYERUNKNOWN’S BATTLEGROUNDS', 5101127.92),\n",
       " (2021, 'Counter-Strike: Global Offensive', 9977919.23),\n",
       " (2021, 'PLAYERUNKNOWN’S BATTLEGROUNDS', 7854153.0),\n",
       " (2021, 'Fortnite', 6120128.3),\n",
       " (2021, \"PLAYERUNKNOWN'S BATTLEGROUNDS Mobile\", 5974745.0),\n",
       " (2021, 'Call of Duty: Black Ops Cold War', 5777000.0),\n",
       " (2021, 'Dota 2', 5671750.51),\n",
       " (2021, 'Rainbow Six Siege', 4701810.98),\n",
       " (2021, 'Arena of Valor', 3831414.13),\n",
       " (2021, 'VALORANT', 3763375.24),\n",
       " (2021, 'Call of Duty: Warzone', 3566186.14)]"
      ]
     },
     "execution_count": 43,
     "metadata": {},
     "output_type": "execute_result"
    }
   ],
   "source": [
    "cleaned_df.to_sql(name='small_bar_race_data', con=engine, if_exists='replace', index=False)\n",
    "engine.execute('select * from small_bar_race_data').fetchall()"
   ]
  },
  {
   "cell_type": "code",
   "execution_count": 48,
   "metadata": {},
   "outputs": [
    {
     "data": {
      "text/plain": [
       "538"
      ]
     },
     "execution_count": 48,
     "metadata": {},
     "output_type": "execute_result"
    }
   ],
   "source": [
    "general_data_df[\"Game\"].nunique()"
   ]
  },
  {
   "cell_type": "code",
   "execution_count": null,
   "metadata": {},
   "outputs": [],
   "source": []
  }
 ],
 "metadata": {
  "kernelspec": {
   "display_name": "Python 3",
   "language": "python",
   "name": "python3"
  },
  "language_info": {
   "codemirror_mode": {
    "name": "ipython",
    "version": 3
   },
   "file_extension": ".py",
   "mimetype": "text/x-python",
   "name": "python",
   "nbconvert_exporter": "python",
   "pygments_lexer": "ipython3",
   "version": "3.8.5"
  }
 },
 "nbformat": 4,
 "nbformat_minor": 4
}
