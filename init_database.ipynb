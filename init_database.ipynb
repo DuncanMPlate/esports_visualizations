{
 "cells": [
  {
   "cell_type": "code",
   "execution_count": 1,
   "source": [
    "# Dependencies and Setup\r\n",
    "import pandas as pd\r\n",
    "import csv\r\n",
    "import os\r\n",
    "import numpy as np"
   ],
   "outputs": [],
   "metadata": {}
  },
  {
   "cell_type": "markdown",
   "source": [
    "## Load and Clean Data"
   ],
   "metadata": {}
  },
  {
   "cell_type": "code",
   "execution_count": 2,
   "source": [
    "# Files to Load\r\n",
    "cont_code_path = os.path.join(os.getcwd(), \"Resources\", \"country-and-continent-codes-list-cleaned.csv\")\r\n",
    "teams_path = os.path.join(os.getcwd(), \"Resources\", \"highest_earning_teams.csv\")\r\n",
    "players_path = os.path.join(os.getcwd(), \"Resources\", \"highest_earning_players.csv\")\r\n",
    "time_trends_path = os.path.join(os.getcwd(), \"Resources\", \"time_trends.csv\")\r\n",
    "trends_path = os.path.join(os.getcwd(), \"Resources\", \"trend_map.csv\")\r\n",
    "general_data_path = os.path.join(os.getcwd(), \"Resources\", \"GeneralEsportData.csv\")\r\n",
    "historical_data_path = os.path.join(os.getcwd(), \"Resources\", \"HistoricalEsportData.csv\")"
   ],
   "outputs": [],
   "metadata": {}
  },
  {
   "cell_type": "code",
   "execution_count": 3,
   "source": [
    "# Read Files and Store Into Pandas Data Frame\r\n",
    "cont_code_df = pd.read_csv(cont_code_path)\r\n",
    "teams_df = pd.read_csv(teams_path)\r\n",
    "players_df = pd.read_csv(players_path)\r\n",
    "time_trends_df = pd.read_csv(time_trends_path)\r\n",
    "trends_geo_df = pd.read_csv(trends_path)\r\n",
    "general_data_df = pd.read_csv(general_data_path, encoding='cp1252')\r\n",
    "historical_data_df = pd.read_csv(historical_data_path, encoding='cp1252')"
   ],
   "outputs": [],
   "metadata": {}
  },
  {
   "cell_type": "code",
   "execution_count": 4,
   "source": [
    "## Look at our data\r\n",
    "cont_code_df.head()"
   ],
   "outputs": [
    {
     "output_type": "execute_result",
     "data": {
      "text/html": [
       "<div>\n",
       "<style scoped>\n",
       "    .dataframe tbody tr th:only-of-type {\n",
       "        vertical-align: middle;\n",
       "    }\n",
       "\n",
       "    .dataframe tbody tr th {\n",
       "        vertical-align: top;\n",
       "    }\n",
       "\n",
       "    .dataframe thead th {\n",
       "        text-align: right;\n",
       "    }\n",
       "</style>\n",
       "<table border=\"1\" class=\"dataframe\">\n",
       "  <thead>\n",
       "    <tr style=\"text-align: right;\">\n",
       "      <th></th>\n",
       "      <th>Continent_Name</th>\n",
       "      <th>Continent_Code</th>\n",
       "      <th>Country_Name</th>\n",
       "      <th>Two_Letter_Country_Code</th>\n",
       "      <th>Three_Letter_Country_Code</th>\n",
       "      <th>Country_Number</th>\n",
       "    </tr>\n",
       "  </thead>\n",
       "  <tbody>\n",
       "    <tr>\n",
       "      <th>0</th>\n",
       "      <td>Asia</td>\n",
       "      <td>AS</td>\n",
       "      <td>Afghanistan</td>\n",
       "      <td>AF</td>\n",
       "      <td>AFG</td>\n",
       "      <td>4.0</td>\n",
       "    </tr>\n",
       "    <tr>\n",
       "      <th>1</th>\n",
       "      <td>Europe</td>\n",
       "      <td>EU</td>\n",
       "      <td>Albania</td>\n",
       "      <td>AL</td>\n",
       "      <td>ALB</td>\n",
       "      <td>8.0</td>\n",
       "    </tr>\n",
       "    <tr>\n",
       "      <th>2</th>\n",
       "      <td>Antarctica</td>\n",
       "      <td>AN</td>\n",
       "      <td>Antarctica</td>\n",
       "      <td>AQ</td>\n",
       "      <td>ATA</td>\n",
       "      <td>10.0</td>\n",
       "    </tr>\n",
       "    <tr>\n",
       "      <th>3</th>\n",
       "      <td>Africa</td>\n",
       "      <td>AF</td>\n",
       "      <td>Algeria</td>\n",
       "      <td>DZ</td>\n",
       "      <td>DZA</td>\n",
       "      <td>12.0</td>\n",
       "    </tr>\n",
       "    <tr>\n",
       "      <th>4</th>\n",
       "      <td>Oceania</td>\n",
       "      <td>OC</td>\n",
       "      <td>American Samoa</td>\n",
       "      <td>AS</td>\n",
       "      <td>ASM</td>\n",
       "      <td>16.0</td>\n",
       "    </tr>\n",
       "  </tbody>\n",
       "</table>\n",
       "</div>"
      ],
      "text/plain": [
       "  Continent_Name Continent_Code    Country_Name Two_Letter_Country_Code  \\\n",
       "0           Asia             AS     Afghanistan                      AF   \n",
       "1         Europe             EU         Albania                      AL   \n",
       "2     Antarctica             AN      Antarctica                      AQ   \n",
       "3         Africa             AF         Algeria                      DZ   \n",
       "4        Oceania             OC  American Samoa                      AS   \n",
       "\n",
       "  Three_Letter_Country_Code  Country_Number  \n",
       "0                       AFG             4.0  \n",
       "1                       ALB             8.0  \n",
       "2                       ATA            10.0  \n",
       "3                       DZA            12.0  \n",
       "4                       ASM            16.0  "
      ]
     },
     "metadata": {},
     "execution_count": 4
    }
   ],
   "metadata": {}
  },
  {
   "cell_type": "code",
   "execution_count": 5,
   "source": [
    "teams_df.head()"
   ],
   "outputs": [
    {
     "output_type": "execute_result",
     "data": {
      "text/html": [
       "<div>\n",
       "<style scoped>\n",
       "    .dataframe tbody tr th:only-of-type {\n",
       "        vertical-align: middle;\n",
       "    }\n",
       "\n",
       "    .dataframe tbody tr th {\n",
       "        vertical-align: top;\n",
       "    }\n",
       "\n",
       "    .dataframe thead th {\n",
       "        text-align: right;\n",
       "    }\n",
       "</style>\n",
       "<table border=\"1\" class=\"dataframe\">\n",
       "  <thead>\n",
       "    <tr style=\"text-align: right;\">\n",
       "      <th></th>\n",
       "      <th>TeamId</th>\n",
       "      <th>TeamName</th>\n",
       "      <th>TotalUSDPrize</th>\n",
       "      <th>TotalTournaments</th>\n",
       "      <th>Game</th>\n",
       "      <th>Genre</th>\n",
       "    </tr>\n",
       "  </thead>\n",
       "  <tbody>\n",
       "    <tr>\n",
       "      <th>0</th>\n",
       "      <td>760</td>\n",
       "      <td>San Francisco Shock</td>\n",
       "      <td>3105000.0</td>\n",
       "      <td>7</td>\n",
       "      <td>Overwatch</td>\n",
       "      <td>First-Person Shooter</td>\n",
       "    </tr>\n",
       "    <tr>\n",
       "      <th>1</th>\n",
       "      <td>776</td>\n",
       "      <td>London Spitfire</td>\n",
       "      <td>1591136.5</td>\n",
       "      <td>13</td>\n",
       "      <td>Overwatch</td>\n",
       "      <td>First-Person Shooter</td>\n",
       "    </tr>\n",
       "    <tr>\n",
       "      <th>2</th>\n",
       "      <td>768</td>\n",
       "      <td>New York Excelsior</td>\n",
       "      <td>1572618.5</td>\n",
       "      <td>18</td>\n",
       "      <td>Overwatch</td>\n",
       "      <td>First-Person Shooter</td>\n",
       "    </tr>\n",
       "    <tr>\n",
       "      <th>3</th>\n",
       "      <td>773</td>\n",
       "      <td>Philadelphia Fusion</td>\n",
       "      <td>1186278.5</td>\n",
       "      <td>15</td>\n",
       "      <td>Overwatch</td>\n",
       "      <td>First-Person Shooter</td>\n",
       "    </tr>\n",
       "    <tr>\n",
       "      <th>4</th>\n",
       "      <td>766</td>\n",
       "      <td>Seoul Dynasty</td>\n",
       "      <td>1130000.0</td>\n",
       "      <td>6</td>\n",
       "      <td>Overwatch</td>\n",
       "      <td>First-Person Shooter</td>\n",
       "    </tr>\n",
       "  </tbody>\n",
       "</table>\n",
       "</div>"
      ],
      "text/plain": [
       "   TeamId             TeamName  TotalUSDPrize  TotalTournaments       Game  \\\n",
       "0     760  San Francisco Shock      3105000.0                 7  Overwatch   \n",
       "1     776      London Spitfire      1591136.5                13  Overwatch   \n",
       "2     768   New York Excelsior      1572618.5                18  Overwatch   \n",
       "3     773  Philadelphia Fusion      1186278.5                15  Overwatch   \n",
       "4     766        Seoul Dynasty      1130000.0                 6  Overwatch   \n",
       "\n",
       "                  Genre  \n",
       "0  First-Person Shooter  \n",
       "1  First-Person Shooter  \n",
       "2  First-Person Shooter  \n",
       "3  First-Person Shooter  \n",
       "4  First-Person Shooter  "
      ]
     },
     "metadata": {},
     "execution_count": 5
    }
   ],
   "metadata": {}
  },
  {
   "cell_type": "code",
   "execution_count": 6,
   "source": [
    "players_df.head()"
   ],
   "outputs": [
    {
     "output_type": "execute_result",
     "data": {
      "text/html": [
       "<div>\n",
       "<style scoped>\n",
       "    .dataframe tbody tr th:only-of-type {\n",
       "        vertical-align: middle;\n",
       "    }\n",
       "\n",
       "    .dataframe tbody tr th {\n",
       "        vertical-align: top;\n",
       "    }\n",
       "\n",
       "    .dataframe thead th {\n",
       "        text-align: right;\n",
       "    }\n",
       "</style>\n",
       "<table border=\"1\" class=\"dataframe\">\n",
       "  <thead>\n",
       "    <tr style=\"text-align: right;\">\n",
       "      <th></th>\n",
       "      <th>PlayerId</th>\n",
       "      <th>NameFirst</th>\n",
       "      <th>NameLast</th>\n",
       "      <th>CurrentHandle</th>\n",
       "      <th>CountryCode</th>\n",
       "      <th>TotalUSDPrize</th>\n",
       "      <th>Game</th>\n",
       "      <th>Genre</th>\n",
       "    </tr>\n",
       "  </thead>\n",
       "  <tbody>\n",
       "    <tr>\n",
       "      <th>0</th>\n",
       "      <td>3883</td>\n",
       "      <td>Peter</td>\n",
       "      <td>Rasmussen</td>\n",
       "      <td>dupreeh</td>\n",
       "      <td>dk</td>\n",
       "      <td>1822989.41</td>\n",
       "      <td>Counter-Strike: Global Offensive</td>\n",
       "      <td>First-Person Shooter</td>\n",
       "    </tr>\n",
       "    <tr>\n",
       "      <th>1</th>\n",
       "      <td>3679</td>\n",
       "      <td>Andreas</td>\n",
       "      <td>Højsleth</td>\n",
       "      <td>Xyp9x</td>\n",
       "      <td>dk</td>\n",
       "      <td>1799288.57</td>\n",
       "      <td>Counter-Strike: Global Offensive</td>\n",
       "      <td>First-Person Shooter</td>\n",
       "    </tr>\n",
       "    <tr>\n",
       "      <th>2</th>\n",
       "      <td>3885</td>\n",
       "      <td>Nicolai</td>\n",
       "      <td>Reedtz</td>\n",
       "      <td>dev1ce</td>\n",
       "      <td>dk</td>\n",
       "      <td>1787489.88</td>\n",
       "      <td>Counter-Strike: Global Offensive</td>\n",
       "      <td>First-Person Shooter</td>\n",
       "    </tr>\n",
       "    <tr>\n",
       "      <th>3</th>\n",
       "      <td>3672</td>\n",
       "      <td>Lukas</td>\n",
       "      <td>Rossander</td>\n",
       "      <td>gla1ve</td>\n",
       "      <td>dk</td>\n",
       "      <td>1652350.75</td>\n",
       "      <td>Counter-Strike: Global Offensive</td>\n",
       "      <td>First-Person Shooter</td>\n",
       "    </tr>\n",
       "    <tr>\n",
       "      <th>4</th>\n",
       "      <td>17800</td>\n",
       "      <td>Emil</td>\n",
       "      <td>Reif</td>\n",
       "      <td>Magisk</td>\n",
       "      <td>dk</td>\n",
       "      <td>1416448.64</td>\n",
       "      <td>Counter-Strike: Global Offensive</td>\n",
       "      <td>First-Person Shooter</td>\n",
       "    </tr>\n",
       "  </tbody>\n",
       "</table>\n",
       "</div>"
      ],
      "text/plain": [
       "   PlayerId NameFirst   NameLast CurrentHandle CountryCode  TotalUSDPrize  \\\n",
       "0      3883     Peter  Rasmussen       dupreeh          dk     1822989.41   \n",
       "1      3679   Andreas   Højsleth         Xyp9x          dk     1799288.57   \n",
       "2      3885   Nicolai     Reedtz        dev1ce          dk     1787489.88   \n",
       "3      3672     Lukas  Rossander        gla1ve          dk     1652350.75   \n",
       "4     17800      Emil       Reif        Magisk          dk     1416448.64   \n",
       "\n",
       "                               Game                 Genre  \n",
       "0  Counter-Strike: Global Offensive  First-Person Shooter  \n",
       "1  Counter-Strike: Global Offensive  First-Person Shooter  \n",
       "2  Counter-Strike: Global Offensive  First-Person Shooter  \n",
       "3  Counter-Strike: Global Offensive  First-Person Shooter  \n",
       "4  Counter-Strike: Global Offensive  First-Person Shooter  "
      ]
     },
     "metadata": {},
     "execution_count": 6
    }
   ],
   "metadata": {}
  },
  {
   "cell_type": "code",
   "execution_count": 7,
   "source": [
    "time_trends_df = time_trends_df.drop([0])\r\n",
    "## Need to fix headers\r\n",
    "new_header = time_trends_df.iloc[0]\r\n",
    "time_trends_df = time_trends_df[1:]\r\n",
    "time_trends_df.columns = new_header\r\n",
    "time_trends_df = time_trends_df.rename(columns={\"League of Legends: (Worldwide)\" : \"League_of_Legends\", \r\n",
    "                                              \"Dota 2: (Worldwide)\" : \"Dota_2\",\r\n",
    "                                              \"Fortnite: (Worldwide)\" : \"Fortnite\",\r\n",
    "                                              \"PlayerUnknown's Battlegrounds: (Worldwide)\" : \"PUBG\",\r\n",
    "                                              \"Counter-Strike: Global Offensive: (Worldwide)\" : \"CSGO\"\r\n",
    "                                             })\r\n",
    "time_trends_df.head()"
   ],
   "outputs": [
    {
     "output_type": "execute_result",
     "data": {
      "text/html": [
       "<div>\n",
       "<style scoped>\n",
       "    .dataframe tbody tr th:only-of-type {\n",
       "        vertical-align: middle;\n",
       "    }\n",
       "\n",
       "    .dataframe tbody tr th {\n",
       "        vertical-align: top;\n",
       "    }\n",
       "\n",
       "    .dataframe thead th {\n",
       "        text-align: right;\n",
       "    }\n",
       "</style>\n",
       "<table border=\"1\" class=\"dataframe\">\n",
       "  <thead>\n",
       "    <tr style=\"text-align: right;\">\n",
       "      <th>1</th>\n",
       "      <th>Week</th>\n",
       "      <th>League_of_Legends</th>\n",
       "      <th>Dota_2</th>\n",
       "      <th>Fortnite</th>\n",
       "      <th>PUBG</th>\n",
       "      <th>CSGO</th>\n",
       "    </tr>\n",
       "  </thead>\n",
       "  <tbody>\n",
       "    <tr>\n",
       "      <th>2</th>\n",
       "      <td>9/6/2020</td>\n",
       "      <td>26</td>\n",
       "      <td>5</td>\n",
       "      <td>74</td>\n",
       "      <td>76</td>\n",
       "      <td>11</td>\n",
       "    </tr>\n",
       "    <tr>\n",
       "      <th>3</th>\n",
       "      <td>9/13/2020</td>\n",
       "      <td>26</td>\n",
       "      <td>5</td>\n",
       "      <td>72</td>\n",
       "      <td>53</td>\n",
       "      <td>11</td>\n",
       "    </tr>\n",
       "    <tr>\n",
       "      <th>4</th>\n",
       "      <td>9/20/2020</td>\n",
       "      <td>27</td>\n",
       "      <td>5</td>\n",
       "      <td>72</td>\n",
       "      <td>45</td>\n",
       "      <td>11</td>\n",
       "    </tr>\n",
       "    <tr>\n",
       "      <th>5</th>\n",
       "      <td>9/27/2020</td>\n",
       "      <td>31</td>\n",
       "      <td>4</td>\n",
       "      <td>65</td>\n",
       "      <td>41</td>\n",
       "      <td>11</td>\n",
       "    </tr>\n",
       "    <tr>\n",
       "      <th>6</th>\n",
       "      <td>10/4/2020</td>\n",
       "      <td>30</td>\n",
       "      <td>4</td>\n",
       "      <td>57</td>\n",
       "      <td>39</td>\n",
       "      <td>10</td>\n",
       "    </tr>\n",
       "  </tbody>\n",
       "</table>\n",
       "</div>"
      ],
      "text/plain": [
       "1       Week League_of_Legends Dota_2 Fortnite PUBG CSGO\n",
       "2   9/6/2020                26      5       74   76   11\n",
       "3  9/13/2020                26      5       72   53   11\n",
       "4  9/20/2020                27      5       72   45   11\n",
       "5  9/27/2020                31      4       65   41   11\n",
       "6  10/4/2020                30      4       57   39   10"
      ]
     },
     "metadata": {},
     "execution_count": 7
    }
   ],
   "metadata": {}
  },
  {
   "cell_type": "code",
   "execution_count": 8,
   "source": [
    "trends_geo_df = trends_geo_df.drop([0])\r\n",
    "## Need to fix headers\r\n",
    "new_header = trends_geo_df.iloc[0]\r\n",
    "trends_geo_df = trends_geo_df[1:]\r\n",
    "trends_geo_df.columns = new_header\r\n",
    "trends_geo_df = trends_geo_df.rename(columns={\"League of Legends: (9/1/20 - 9/1/21)\" : \"League_of_Legends\", \r\n",
    "                                              \"Dota 2: (9/1/20 - 9/1/21)\" : \"Dota_2\",\r\n",
    "                                              \"Fortnite: (9/1/20 - 9/1/21)\" : \"Fortnite\",\r\n",
    "                                              \"PlayerUnknown's Battlegrounds: (9/1/20 - 9/1/21)\" : \"PUBG\",\r\n",
    "                                              \"Counter-Strike: Global Offensive: (9/1/20 - 9/1/21)\" : \"CSGO\"\r\n",
    "                                             })\r\n",
    "trends_geo_df.head()"
   ],
   "outputs": [
    {
     "output_type": "execute_result",
     "data": {
      "text/html": [
       "<div>\n",
       "<style scoped>\n",
       "    .dataframe tbody tr th:only-of-type {\n",
       "        vertical-align: middle;\n",
       "    }\n",
       "\n",
       "    .dataframe tbody tr th {\n",
       "        vertical-align: top;\n",
       "    }\n",
       "\n",
       "    .dataframe thead th {\n",
       "        text-align: right;\n",
       "    }\n",
       "</style>\n",
       "<table border=\"1\" class=\"dataframe\">\n",
       "  <thead>\n",
       "    <tr style=\"text-align: right;\">\n",
       "      <th>1</th>\n",
       "      <th>Albania</th>\n",
       "      <th>League_of_Legends</th>\n",
       "      <th>Dota_2</th>\n",
       "      <th>Fortnite</th>\n",
       "      <th>PUBG</th>\n",
       "      <th>CSGO</th>\n",
       "    </tr>\n",
       "  </thead>\n",
       "  <tbody>\n",
       "    <tr>\n",
       "      <th>2</th>\n",
       "      <td>Algeria</td>\n",
       "      <td>&lt;1%</td>\n",
       "      <td>&lt;1%</td>\n",
       "      <td>9%</td>\n",
       "      <td>91%</td>\n",
       "      <td>&lt;1%</td>\n",
       "    </tr>\n",
       "    <tr>\n",
       "      <th>3</th>\n",
       "      <td>American Samoa</td>\n",
       "      <td>2%</td>\n",
       "      <td>1%</td>\n",
       "      <td>3%</td>\n",
       "      <td>94%</td>\n",
       "      <td>&lt;1%</td>\n",
       "    </tr>\n",
       "    <tr>\n",
       "      <th>4</th>\n",
       "      <td>Andorra</td>\n",
       "      <td>8%</td>\n",
       "      <td>11%</td>\n",
       "      <td>3%</td>\n",
       "      <td>75%</td>\n",
       "      <td>3%</td>\n",
       "    </tr>\n",
       "    <tr>\n",
       "      <th>5</th>\n",
       "      <td>Angola</td>\n",
       "      <td>NaN</td>\n",
       "      <td>NaN</td>\n",
       "      <td>NaN</td>\n",
       "      <td>100%</td>\n",
       "      <td>NaN</td>\n",
       "    </tr>\n",
       "    <tr>\n",
       "      <th>6</th>\n",
       "      <td>Anguilla</td>\n",
       "      <td>1%</td>\n",
       "      <td>&lt;1%</td>\n",
       "      <td>7%</td>\n",
       "      <td>92%</td>\n",
       "      <td>&lt;1%</td>\n",
       "    </tr>\n",
       "  </tbody>\n",
       "</table>\n",
       "</div>"
      ],
      "text/plain": [
       "1         Albania League_of_Legends Dota_2 Fortnite  PUBG CSGO\n",
       "2         Algeria               <1%    <1%       9%   91%  <1%\n",
       "3  American Samoa                2%     1%       3%   94%  <1%\n",
       "4         Andorra                8%    11%       3%   75%   3%\n",
       "5          Angola               NaN    NaN      NaN  100%  NaN\n",
       "6        Anguilla                1%    <1%       7%   92%  <1%"
      ]
     },
     "metadata": {},
     "execution_count": 8
    }
   ],
   "metadata": {}
  },
  {
   "cell_type": "code",
   "execution_count": 9,
   "source": [
    "\r\n",
    "general_data_df.drop(columns = [\"Genre\"]).head()"
   ],
   "outputs": [
    {
     "output_type": "execute_result",
     "data": {
      "text/html": [
       "<div>\n",
       "<style scoped>\n",
       "    .dataframe tbody tr th:only-of-type {\n",
       "        vertical-align: middle;\n",
       "    }\n",
       "\n",
       "    .dataframe tbody tr th {\n",
       "        vertical-align: top;\n",
       "    }\n",
       "\n",
       "    .dataframe thead th {\n",
       "        text-align: right;\n",
       "    }\n",
       "</style>\n",
       "<table border=\"1\" class=\"dataframe\">\n",
       "  <thead>\n",
       "    <tr style=\"text-align: right;\">\n",
       "      <th></th>\n",
       "      <th>Game</th>\n",
       "      <th>ReleaseDate</th>\n",
       "      <th>TotalEarnings</th>\n",
       "      <th>OnlineEarnings</th>\n",
       "      <th>TotalPlayers</th>\n",
       "      <th>TotalTournaments</th>\n",
       "    </tr>\n",
       "  </thead>\n",
       "  <tbody>\n",
       "    <tr>\n",
       "      <th>0</th>\n",
       "      <td>Age of Empires</td>\n",
       "      <td>1997</td>\n",
       "      <td>190262.81</td>\n",
       "      <td>156839.89</td>\n",
       "      <td>255</td>\n",
       "      <td>96</td>\n",
       "    </tr>\n",
       "    <tr>\n",
       "      <th>1</th>\n",
       "      <td>Age of Empires II</td>\n",
       "      <td>1999</td>\n",
       "      <td>2008941.78</td>\n",
       "      <td>619582.87</td>\n",
       "      <td>1392</td>\n",
       "      <td>1031</td>\n",
       "    </tr>\n",
       "    <tr>\n",
       "      <th>2</th>\n",
       "      <td>Age of Empires III</td>\n",
       "      <td>2005</td>\n",
       "      <td>68613.85</td>\n",
       "      <td>41500.00</td>\n",
       "      <td>108</td>\n",
       "      <td>77</td>\n",
       "    </tr>\n",
       "    <tr>\n",
       "      <th>3</th>\n",
       "      <td>Age of Empires Online</td>\n",
       "      <td>2011</td>\n",
       "      <td>4853.56</td>\n",
       "      <td>775.00</td>\n",
       "      <td>20</td>\n",
       "      <td>13</td>\n",
       "    </tr>\n",
       "    <tr>\n",
       "      <th>4</th>\n",
       "      <td>Age of Mythology</td>\n",
       "      <td>2002</td>\n",
       "      <td>52360.00</td>\n",
       "      <td>52000.00</td>\n",
       "      <td>22</td>\n",
       "      <td>6</td>\n",
       "    </tr>\n",
       "  </tbody>\n",
       "</table>\n",
       "</div>"
      ],
      "text/plain": [
       "                    Game  ReleaseDate  TotalEarnings  OnlineEarnings  \\\n",
       "0         Age of Empires         1997      190262.81       156839.89   \n",
       "1      Age of Empires II         1999     2008941.78       619582.87   \n",
       "2     Age of Empires III         2005       68613.85        41500.00   \n",
       "3  Age of Empires Online         2011        4853.56          775.00   \n",
       "4       Age of Mythology         2002       52360.00        52000.00   \n",
       "\n",
       "   TotalPlayers  TotalTournaments  \n",
       "0           255                96  \n",
       "1          1392              1031  \n",
       "2           108                77  \n",
       "3            20                13  \n",
       "4            22                 6  "
      ]
     },
     "metadata": {},
     "execution_count": 9
    }
   ],
   "metadata": {}
  },
  {
   "cell_type": "markdown",
   "source": [
    "## Create Database"
   ],
   "metadata": {}
  },
  {
   "cell_type": "code",
   "execution_count": 10,
   "source": [
    "## Dependencies\r\n",
    "from sqlalchemy import create_engine\r\n",
    "from hiddenConfig import password\r\n",
    "import psycopg2"
   ],
   "outputs": [],
   "metadata": {}
  },
  {
   "cell_type": "code",
   "execution_count": 11,
   "source": [
    "## establishing the connection with database. This checks whether or not the database exists before creation. If it is,\r\n",
    "## it will tell you. Then move onto the next cell\r\n",
    "conn = None\r\n",
    "try:\r\n",
    "    conn = psycopg2.connect(\r\n",
    "       database=\"postgres\", user='postgres', password=password, host='127.0.0.1', port= '5432'\r\n",
    "    )\r\n",
    "\r\n",
    "except:\r\n",
    "    print('Database not connected.')\r\n",
    "    \r\n",
    "if conn is not None:\r\n",
    "    conn.autocommit = True\r\n",
    "\r\n",
    "    #Creating a cursor object\r\n",
    "    cursor = conn.cursor()\r\n",
    "\r\n",
    "    cursor.execute(\"SELECT datname FROM pg_database;\")\r\n",
    "    \r\n",
    "    list_database = cursor.fetchall()\r\n",
    "    database_name = 'esports_db'\r\n",
    "    \r\n",
    "    if (database_name,) in list_database:\r\n",
    "        print(f\"'{database_name}' Database already exists\")\r\n",
    "    else:\r\n",
    "        #Preparing query to create a database\r\n",
    "        sql = '''CREATE database esports_db''';\r\n",
    "\r\n",
    "        #Creating a database\r\n",
    "        cursor.execute(sql)\r\n",
    "        print(\"Database created successfully!\")\r\n",
    "\r\n",
    "#Closing the connection\r\n",
    "conn.close()"
   ],
   "outputs": [
    {
     "output_type": "stream",
     "name": "stdout",
     "text": [
      "'esports_db' Database already exists\n"
     ]
    }
   ],
   "metadata": {}
  },
  {
   "cell_type": "code",
   "execution_count": 12,
   "source": [
    "## Connect to local database\r\n",
    "rds_connection_string = f\"postgres:{password}@localhost:5432/esports_db\"\r\n",
    "engine = create_engine(f'postgresql://{rds_connection_string}')"
   ],
   "outputs": [],
   "metadata": {}
  },
  {
   "cell_type": "code",
   "execution_count": 13,
   "source": [
    "## Check to see if there are any tables already in the database\r\n",
    "engine.table_names()"
   ],
   "outputs": [
    {
     "output_type": "stream",
     "name": "stderr",
     "text": [
      "C:\\Users\\1800h\\AppData\\Local\\Temp/ipykernel_18924/2263100480.py:2: SADeprecationWarning: The Engine.table_names() method is deprecated and will be removed in a future release.  Please refer to Inspector.get_table_names(). (deprecated since: 1.4)\n",
      "  engine.table_names()\n"
     ]
    },
    {
     "output_type": "execute_result",
     "data": {
      "text/plain": [
       "['cont_code_data',\n",
       " 'team_data',\n",
       " 'trends_geo_data',\n",
       " 'player_data',\n",
       " 'time_trends_data']"
      ]
     },
     "metadata": {},
     "execution_count": 13
    }
   ],
   "metadata": {}
  },
  {
   "cell_type": "markdown",
   "source": [
    "#### Load the dataframes into our database"
   ],
   "metadata": {}
  },
  {
   "cell_type": "code",
   "execution_count": 14,
   "source": [
    "cont_code_df.to_sql(name='cont_code_data', con=engine, if_exists='replace', index=False)\r\n",
    "teams_df.to_sql(name='team_data', con=engine, if_exists='replace', index=False)\r\n",
    "trends_geo_df.to_sql(name='trends_geo_data', con=engine, if_exists='replace', index=False)\r\n",
    "players_df.to_sql(name='player_data', con=engine, if_exists='replace', index=False)\r\n",
    "time_trends_df.to_sql(name='time_trends_data', con=engine, if_exists='replace', index=False)\r\n",
    "general_data_df.to_sql(name='general_data', con=engine, if_exists='replace', index=False)\r\n",
    "historical_data_df.to_sql(name='historical_data', con=engine, if_exists='replace', index=False)"
   ],
   "outputs": [],
   "metadata": {}
  },
  {
   "cell_type": "markdown",
   "source": [
    "#### Check to make sure it worked OK"
   ],
   "metadata": {}
  },
  {
   "cell_type": "code",
   "execution_count": 15,
   "source": [
    "engine.execute('select * from cont_code_data').first()"
   ],
   "outputs": [
    {
     "output_type": "execute_result",
     "data": {
      "text/plain": [
       "('Asia', 'AS', 'Afghanistan', 'AF', 'AFG', 4.0)"
      ]
     },
     "metadata": {},
     "execution_count": 15
    }
   ],
   "metadata": {}
  },
  {
   "cell_type": "code",
   "execution_count": 16,
   "source": [
    "engine.execute('select * from team_data').first()"
   ],
   "outputs": [
    {
     "output_type": "execute_result",
     "data": {
      "text/plain": [
       "(760, 'San Francisco Shock', 3105000.0, 7, 'Overwatch', 'First-Person Shooter')"
      ]
     },
     "metadata": {},
     "execution_count": 16
    }
   ],
   "metadata": {}
  },
  {
   "cell_type": "code",
   "execution_count": 17,
   "source": [
    "engine.execute('select * from trends_geo_data').first()"
   ],
   "outputs": [
    {
     "output_type": "execute_result",
     "data": {
      "text/plain": [
       "('Algeria', '<1%', '<1%', '9%', '91%', '<1%')"
      ]
     },
     "metadata": {},
     "execution_count": 17
    }
   ],
   "metadata": {}
  },
  {
   "cell_type": "code",
   "execution_count": 18,
   "source": [
    "engine.execute('select * from player_data').first()"
   ],
   "outputs": [
    {
     "output_type": "execute_result",
     "data": {
      "text/plain": [
       "(3883, 'Peter', 'Rasmussen', 'dupreeh', 'dk', 1822989.41, 'Counter-Strike: Global Offensive', 'First-Person Shooter')"
      ]
     },
     "metadata": {},
     "execution_count": 18
    }
   ],
   "metadata": {}
  },
  {
   "cell_type": "code",
   "execution_count": 19,
   "source": [
    "engine.execute('select * from time_trends_data').first()"
   ],
   "outputs": [
    {
     "output_type": "execute_result",
     "data": {
      "text/plain": [
       "('9/6/2020', '26', '5', '74', '76', '11')"
      ]
     },
     "metadata": {},
     "execution_count": 19
    }
   ],
   "metadata": {}
  }
 ],
 "metadata": {
  "kernelspec": {
   "name": "python3",
   "display_name": "Python 3.8.8 32-bit ('base': conda)"
  },
  "language_info": {
   "codemirror_mode": {
    "name": "ipython",
    "version": 3
   },
   "file_extension": ".py",
   "mimetype": "text/x-python",
   "name": "python",
   "nbconvert_exporter": "python",
   "pygments_lexer": "ipython3",
   "version": "3.8.8"
  },
  "interpreter": {
   "hash": "6789e5c0a1e4ab3107530c7294f13901bddb27991e4ea1a6417a9a953c743642"
  }
 },
 "nbformat": 4,
 "nbformat_minor": 4
}